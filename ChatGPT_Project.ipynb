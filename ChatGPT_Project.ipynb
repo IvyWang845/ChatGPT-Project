{
  "nbformat": 4,
  "nbformat_minor": 0,
  "metadata": {
    "colab": {
      "provenance": [],
      "authorship_tag": "ABX9TyP7W06oZtRERFrcmB+rif3l",
      "include_colab_link": true
    },
    "kernelspec": {
      "name": "python3",
      "display_name": "Python 3"
    },
    "language_info": {
      "name": "python"
    }
  },
  "cells": [
    {
      "cell_type": "markdown",
      "metadata": {
        "id": "view-in-github",
        "colab_type": "text"
      },
      "source": [
        "<a href=\"https://colab.research.google.com/github/IvyWang845/ChatGPT-Project/blob/main/ChatGPT_Project.ipynb\" target=\"_parent\"><img src=\"https://colab.research.google.com/assets/colab-badge.svg\" alt=\"Open In Colab\"/></a>"
      ]
    },
    {
      "cell_type": "code",
      "execution_count": null,
      "metadata": {
        "id": "ef9U24pUIPco"
      },
      "outputs": [],
      "source": [
        "!pip install -U -q PyDrive\n",
        "\n",
        "from pydrive.auth import GoogleAuth\n",
        "from pydrive.drive import GoogleDrive\n",
        "from google.colab import auth\n",
        "from oauth2client.client import GoogleCredentials\n",
        "\n",
        "auth.authenticate_user()\n",
        "gauth = GoogleAuth()\n",
        "gauth.credentials = GoogleCredentials.get_application_default()\n",
        "drive = GoogleDrive(gauth)"
      ]
    },
    {
      "cell_type": "code",
      "source": [
        "file = drive.CreateFile({'id':'1WrPLHqA4FTOTUZAorV-RCPcmg0A0CEib'}) # replace the id with id of file you want to access https://drive.google.com/file/d/1WrPLHqA4FTOTUZAorV-RCPcmg0A0CEib/view?usp=share_link\n",
        "file.GetContentFile('Biomass_data.txt')  # tab-separated"
      ],
      "metadata": {
        "id": "QCeolG0cIl03"
      },
      "execution_count": null,
      "outputs": []
    },
    {
      "cell_type": "markdown",
      "source": [
        "# Part 1: Load Data"
      ],
      "metadata": {
        "id": "LXJ3JCDxJF17"
      }
    },
    {
      "cell_type": "code",
      "source": [
        "import numpy as np\n",
        "import pandas as pd\n",
        "import nltk\n",
        "# import gensim\n",
        "\n",
        "from sklearn.feature_extraction.text import TfidfVectorizer\n",
        "import matplotlib.pyplot as plt\n",
        "\n",
        "nltk.download('punkt')\n",
        "nltk.download('stopwords')"
      ],
      "metadata": {
        "colab": {
          "base_uri": "https://localhost:8080/"
        },
        "id": "Bjl8fhO0JOuy",
        "outputId": "2cf9b3e2-ea6b-4091-8eb7-793e29878746"
      },
      "execution_count": null,
      "outputs": [
        {
          "output_type": "stream",
          "name": "stderr",
          "text": [
            "[nltk_data] Downloading package punkt to /root/nltk_data...\n",
            "[nltk_data]   Package punkt is already up-to-date!\n",
            "[nltk_data] Downloading package stopwords to /root/nltk_data...\n",
            "[nltk_data]   Package stopwords is already up-to-date!\n"
          ]
        },
        {
          "output_type": "execute_result",
          "data": {
            "text/plain": [
              "True"
            ]
          },
          "metadata": {},
          "execution_count": 63
        }
      ]
    },
    {
      "cell_type": "code",
      "source": [
        "# Load data into dataframe\n",
        "df = pd.read_csv('Biomass_data.txt', encoding= 'unicode_escape', sep='\\t', error_bad_lines=False)"
      ],
      "metadata": {
        "id": "ovuhgKcxJUei",
        "colab": {
          "base_uri": "https://localhost:8080/"
        },
        "outputId": "a1d007e3-e7e8-430a-b166-505636a5fd0c"
      },
      "execution_count": null,
      "outputs": [
        {
          "output_type": "stream",
          "name": "stderr",
          "text": [
            "/usr/local/lib/python3.8/dist-packages/IPython/core/interactiveshell.py:3326: FutureWarning: The error_bad_lines argument has been deprecated and will be removed in a future version.\n",
            "\n",
            "\n",
            "  exec(code_obj, self.user_global_ns, self.user_ns)\n"
          ]
        }
      ]
    },
    {
      "cell_type": "code",
      "source": [
        "df.isna().sum()"
      ],
      "metadata": {
        "colab": {
          "base_uri": "https://localhost:8080/"
        },
        "id": "FXihg5GvJbWl",
        "outputId": "7a33749a-e96a-4601-cfd6-f1233ad31370"
      },
      "execution_count": null,
      "outputs": [
        {
          "output_type": "execute_result",
          "data": {
            "text/plain": [
              "Type         0\n",
              "Type_num     0\n",
              "Responses    0\n",
              "DESPC        0\n",
              "DESSC        0\n",
              "            ..\n",
              "WRDHYPv      0\n",
              "WRDHYPnv     0\n",
              "RDFRE        0\n",
              "RDFKGL       0\n",
              "RDL2         0\n",
              "Length: 111, dtype: int64"
            ]
          },
          "metadata": {},
          "execution_count": 65
        }
      ]
    },
    {
      "cell_type": "code",
      "source": [
        "# generate text dataset\n",
        "TF_data = df.loc[:, 'Responses'].tolist()"
      ],
      "metadata": {
        "id": "2moqGn5eJh9u"
      },
      "execution_count": null,
      "outputs": []
    },
    {
      "cell_type": "markdown",
      "source": [
        "# Part 2: Tokenizing and Stemming"
      ],
      "metadata": {
        "id": "8rM93qzQKI3y"
      }
    },
    {
      "cell_type": "code",
      "source": [
        "# Use nltk's English stopwords.\n",
        "stopwords = nltk.corpus.stopwords.words('english') #stopwords.append(\"n't\")\n",
        "stopwords.append(\"'s\")\n",
        "stopwords.append(\"'m\")\n",
        "stopwords.append(\"br\") #html <br>\n",
        "\n",
        "print (\"We use \" + str(len(stopwords)) + \" stop-words from nltk library.\")\n",
        "print (stopwords[:10])"
      ],
      "metadata": {
        "colab": {
          "base_uri": "https://localhost:8080/"
        },
        "id": "cvOC1rwyKNFj",
        "outputId": "45d86fdc-f63f-4894-c5fe-508137422c4d"
      },
      "execution_count": null,
      "outputs": [
        {
          "output_type": "stream",
          "name": "stdout",
          "text": [
            "We use 182 stop-words from nltk library.\n",
            "['i', 'me', 'my', 'myself', 'we', 'our', 'ours', 'ourselves', 'you', \"you're\"]\n"
          ]
        }
      ]
    },
    {
      "cell_type": "code",
      "source": [
        "from nltk.stem.snowball import SnowballStemmer\n",
        "# from nltk.stem import WordNetLemmatizer\n",
        "\n",
        "stemmer = SnowballStemmer(\"english\")\n",
        "\n",
        "# tokenization and stemming\n",
        "def tokenization_and_stemming(text):\n",
        "    tokens = []\n",
        "    # exclude stop words and tokenize the document, generate a list of string\n",
        "    for word in nltk.word_tokenize(text):\n",
        "        if word.lower() not in stopwords:\n",
        "            tokens.append(word.lower())\n",
        "\n",
        "    filtered_tokens = []\n",
        "\n",
        "    # filter out any tokens not containing letters (e.g., numeric tokens, raw punctuation)\n",
        "    for token in tokens:\n",
        "        if token.isalpha():\n",
        "            filtered_tokens.append(token)\n",
        "\n",
        "    # stemming\n",
        "    stems = [stemmer.stem(t) for t in filtered_tokens]\n",
        "    return stems"
      ],
      "metadata": {
        "id": "ZaFpQ2blKPvw"
      },
      "execution_count": null,
      "outputs": []
    },
    {
      "cell_type": "code",
      "source": [
        "tokenization_and_stemming(TF_data[0])"
      ],
      "metadata": {
        "colab": {
          "base_uri": "https://localhost:8080/"
        },
        "id": "aqEBTJnPKRjm",
        "outputId": "a1eac2a9-09ce-46cb-a8c7-6c64a5222682"
      },
      "execution_count": null,
      "outputs": [
        {
          "output_type": "execute_result",
          "data": {
            "text/plain": [
              "['increas',\n",
              " 'water',\n",
              " 'demand',\n",
              " 'corn',\n",
              " 'requir',\n",
              " 'water',\n",
              " 'grow',\n",
              " 'compar',\n",
              " 'bean',\n",
              " 'shift',\n",
              " 'crop',\n",
              " 'could',\n",
              " 'result',\n",
              " 'increas',\n",
              " 'water',\n",
              " 'usag',\n",
              " 'put',\n",
              " 'pressur',\n",
              " 'limit',\n",
              " 'water',\n",
              " 'sourc',\n",
              " 'area']"
            ]
          },
          "metadata": {},
          "execution_count": 69
        }
      ]
    },
    {
      "cell_type": "code",
      "source": [
        "TF_data[0]"
      ],
      "metadata": {
        "colab": {
          "base_uri": "https://localhost:8080/",
          "height": 53
        },
        "id": "UbjjX-RUKVIw",
        "outputId": "4d07a395-6962-4682-c9f8-0ccabcd5d3a8"
      },
      "execution_count": null,
      "outputs": [
        {
          "output_type": "execute_result",
          "data": {
            "text/plain": [
              "'Increased water demand: As corn requires more water to grow compared to beans, the shift in crops could result in an increase in water usage, putting pressure on the limited water sources in the area.'"
            ],
            "application/vnd.google.colaboratory.intrinsic+json": {
              "type": "string"
            }
          },
          "metadata": {},
          "execution_count": 70
        }
      ]
    },
    {
      "cell_type": "markdown",
      "source": [
        "# TF-IDF"
      ],
      "metadata": {
        "id": "XPPk4DpwKYZk"
      }
    },
    {
      "cell_type": "code",
      "source": [
        "from sklearn.feature_extraction.text import TfidfVectorizer\n",
        "# define vectorizer parameters\n",
        "# TfidfVectorizer will help us to create tf-idf matrix\n",
        "# max_df : maximum document frequency for the given word, don't keep when a word appears in the documents at this frequency rate\n",
        "# min_df : minimum document frequency for the given word, don't keep when a word appears in the documents at this frequency rate\n",
        "# max_features: maximum number of words\n",
        "# use_idf: if not true, we only calculate tf\n",
        "# stop_words : built-in stop words\n",
        "# tokenizer: how to tokenize the document\n",
        "# ngram_range: (min_value, max_value), eg. (1, 3) means the result will include 1-gram, 2-gram, 3-gram\n",
        "tfidf_model = TfidfVectorizer(max_df=0.99, max_features=1000,\n",
        "                                 min_df=0.1, stop_words='english',\n",
        "                                 use_idf=True, tokenizer=tokenization_and_stemming, ngram_range=(1,1))\n",
        "\n",
        "tfidf_matrix = tfidf_model.fit_transform(TF_data) #fit the vectorizer to synopses\n",
        "\n",
        "print (\"In total, there are \" + str(tfidf_matrix.shape[0]) + \\\n",
        "      \" reviews and \" + str(tfidf_matrix.shape[1]) + \" terms.\")"
      ],
      "metadata": {
        "colab": {
          "base_uri": "https://localhost:8080/"
        },
        "id": "CS7nuEzMKbrz",
        "outputId": "011e92a2-4da2-4ce3-8d07-815e930d0298"
      },
      "execution_count": null,
      "outputs": [
        {
          "output_type": "stream",
          "name": "stderr",
          "text": [
            "/usr/local/lib/python3.8/dist-packages/sklearn/feature_extraction/text.py:396: UserWarning: Your stop_words may be inconsistent with your preprocessing. Tokenizing the stop words generated tokens ['afterward', 'alon', 'alreadi', 'alway', 'anoth', 'anyon', 'anyth', 'anywher', 'becam', 'becom', 'besid', 'cri', 'describ', 'els', 'elsewher', 'empti', 'everi', 'everyon', 'everyth', 'everywher', 'fifti', 'forti', 'henc', 'hereaft', 'herebi', 'howev', 'hundr', 'inde', 'mani', 'meanwhil', 'moreov', 'nobodi', 'noon', 'noth', 'nowher', 'otherwis', 'perhap', 'pleas', 'sever', 'sinc', 'sincer', 'sixti', 'someon', 'someth', 'sometim', 'somewher', 'thenc', 'thereaft', 'therebi', 'therefor', 'togeth', 'twelv', 'twenti', 'whatev', 'whenc', 'whenev', 'wherea', 'whereaft', 'wherebi', 'wherev'] not in stop_words.\n",
            "  warnings.warn(\n"
          ]
        },
        {
          "output_type": "stream",
          "name": "stdout",
          "text": [
            "In total, there are 611 reviews and 30 terms.\n"
          ]
        }
      ]
    },
    {
      "cell_type": "code",
      "source": [
        "tfidf_matrix"
      ],
      "metadata": {
        "colab": {
          "base_uri": "https://localhost:8080/"
        },
        "id": "Gq_rx45XKgfu",
        "outputId": "59a6a966-d280-493e-97b0-c532f641a96d"
      },
      "execution_count": null,
      "outputs": [
        {
          "output_type": "execute_result",
          "data": {
            "text/plain": [
              "<611x30 sparse matrix of type '<class 'numpy.float64'>'\n",
              "\twith 4135 stored elements in Compressed Sparse Row format>"
            ]
          },
          "metadata": {},
          "execution_count": 72
        }
      ]
    },
    {
      "cell_type": "code",
      "source": [
        "tfidf_matrix.toarray() #todense() return a copy, not inplace"
      ],
      "metadata": {
        "colab": {
          "base_uri": "https://localhost:8080/"
        },
        "id": "cjTDYTIaKkuc",
        "outputId": "7a67bdf2-2c65-4d29-f8bd-569eaec30ab5"
      },
      "execution_count": null,
      "outputs": [
        {
          "output_type": "execute_result",
          "data": {
            "text/plain": [
              "array([[0.        , 0.22559299, 0.2074027 , ..., 0.28731548, 0.        ,\n",
              "        0.44145075],\n",
              "       [0.        , 0.        , 0.        , ..., 0.        , 0.24175587,\n",
              "        0.62263586],\n",
              "       [0.        , 0.        , 0.        , ..., 0.35729612, 0.42630894,\n",
              "        0.5489737 ],\n",
              "       ...,\n",
              "       [0.        , 0.        , 0.16996528, ..., 0.        , 0.14046592,\n",
              "        0.09044157],\n",
              "       [0.        , 0.        , 0.        , ..., 0.        , 0.        ,\n",
              "        0.        ],\n",
              "       [0.        , 0.        , 0.        , ..., 0.        , 0.        ,\n",
              "        1.        ]])"
            ]
          },
          "metadata": {},
          "execution_count": 73
        }
      ]
    },
    {
      "cell_type": "code",
      "source": [
        "tfidf_matrix.todense()"
      ],
      "metadata": {
        "colab": {
          "base_uri": "https://localhost:8080/"
        },
        "id": "dXuVdzSHKmI6",
        "outputId": "6f14b76b-7a2b-4bae-9360-2df1a060300e"
      },
      "execution_count": null,
      "outputs": [
        {
          "output_type": "execute_result",
          "data": {
            "text/plain": [
              "matrix([[0.        , 0.22559299, 0.2074027 , ..., 0.28731548, 0.        ,\n",
              "         0.44145075],\n",
              "        [0.        , 0.        , 0.        , ..., 0.        , 0.24175587,\n",
              "         0.62263586],\n",
              "        [0.        , 0.        , 0.        , ..., 0.35729612, 0.42630894,\n",
              "         0.5489737 ],\n",
              "        ...,\n",
              "        [0.        , 0.        , 0.16996528, ..., 0.        , 0.14046592,\n",
              "         0.09044157],\n",
              "        [0.        , 0.        , 0.        , ..., 0.        , 0.        ,\n",
              "         0.        ],\n",
              "        [0.        , 0.        , 0.        , ..., 0.        , 0.        ,\n",
              "         1.        ]])"
            ]
          },
          "metadata": {},
          "execution_count": 74
        }
      ]
    },
    {
      "cell_type": "code",
      "source": [
        "tfidf_matrix"
      ],
      "metadata": {
        "colab": {
          "base_uri": "https://localhost:8080/"
        },
        "id": "1Q29bQ1WMlH8",
        "outputId": "a1aa754b-433a-43f8-fc0d-c529ede83e0c"
      },
      "execution_count": null,
      "outputs": [
        {
          "output_type": "execute_result",
          "data": {
            "text/plain": [
              "<611x30 sparse matrix of type '<class 'numpy.float64'>'\n",
              "\twith 4135 stored elements in Compressed Sparse Row format>"
            ]
          },
          "metadata": {},
          "execution_count": 75
        }
      ]
    },
    {
      "cell_type": "code",
      "source": [
        "# words\n",
        "tf_selected_words = tfidf_model.get_feature_names()"
      ],
      "metadata": {
        "id": "x4Q9B0IWKoQi",
        "colab": {
          "base_uri": "https://localhost:8080/"
        },
        "outputId": "f109669d-400f-4ea0-94bd-a430ce4d5a91"
      },
      "execution_count": null,
      "outputs": [
        {
          "output_type": "stream",
          "name": "stderr",
          "text": [
            "/usr/local/lib/python3.8/dist-packages/sklearn/utils/deprecation.py:87: FutureWarning: Function get_feature_names is deprecated; get_feature_names is deprecated in 1.0 and will be removed in 1.2. Please use get_feature_names_out instead.\n",
            "  warnings.warn(msg, category=FutureWarning)\n"
          ]
        }
      ]
    },
    {
      "cell_type": "code",
      "source": [
        "tf_selected_words"
      ],
      "metadata": {
        "colab": {
          "base_uri": "https://localhost:8080/"
        },
        "id": "pFte2tsOKq53",
        "outputId": "59ef68ae-632a-4bf2-f0f1-837071b36a60"
      },
      "execution_count": null,
      "outputs": [
        {
          "output_type": "execute_result",
          "data": {
            "text/plain": [
              "['agricultur',\n",
              " 'area',\n",
              " 'bean',\n",
              " 'biomass',\n",
              " 'chang',\n",
              " 'communiti',\n",
              " 'corn',\n",
              " 'crop',\n",
              " 'decreas',\n",
              " 'energi',\n",
              " 'farm',\n",
              " 'food',\n",
              " 'gas',\n",
              " 'grow',\n",
              " 'increas',\n",
              " 'limit',\n",
              " 'mean',\n",
              " 'natur',\n",
              " 'need',\n",
              " 'produc',\n",
              " 'product',\n",
              " 'requir',\n",
              " 'result',\n",
              " 'river',\n",
              " 'sourc',\n",
              " 'switch',\n",
              " 'tradeoff',\n",
              " 'usag',\n",
              " 'use',\n",
              " 'water']"
            ]
          },
          "metadata": {},
          "execution_count": 77
        }
      ]
    },
    {
      "cell_type": "markdown",
      "source": [
        "# Part 3: Log Regression Model Training and Result Evaluation"
      ],
      "metadata": {
        "id": "3pmR2mHSK5U9"
      }
    },
    {
      "cell_type": "code",
      "source": [
        "y_tf = df[\"Type_num\"]\n",
        "X_tf = tfidf_matrix"
      ],
      "metadata": {
        "id": "0pcsLLJTLpD_"
      },
      "execution_count": null,
      "outputs": []
    },
    {
      "cell_type": "code",
      "source": [
        "X_tf"
      ],
      "metadata": {
        "colab": {
          "base_uri": "https://localhost:8080/"
        },
        "id": "1tErvgq0ioIU",
        "outputId": "49a3ef95-3806-41aa-f583-2682bab5e43c"
      },
      "execution_count": null,
      "outputs": [
        {
          "output_type": "execute_result",
          "data": {
            "text/plain": [
              "<611x30 sparse matrix of type '<class 'numpy.float64'>'\n",
              "\twith 4135 stored elements in Compressed Sparse Row format>"
            ]
          },
          "metadata": {},
          "execution_count": 79
        }
      ]
    },
    {
      "cell_type": "code",
      "source": [
        "from sklearn import model_selection\n",
        "X_train, X_test, y_train, y_test = model_selection.train_test_split(X_tf, y_tf, test_size=0.25, stratify = y_tf, random_state=1) #stratified sampling,\n",
        "\n",
        "print('training data has ' + str(X_train.shape[0]) + ' observation with ' + str(X_train.shape[1]) + ' terms')\n",
        "print('test data has ' + str(X_test.shape[0]) + ' observation with ' + str(X_test.shape[1]) + ' terms')"
      ],
      "metadata": {
        "colab": {
          "base_uri": "https://localhost:8080/"
        },
        "id": "km24kbw6Ld6r",
        "outputId": "23120169-6735-4055-c47a-c9d1958236db"
      },
      "execution_count": null,
      "outputs": [
        {
          "output_type": "stream",
          "name": "stdout",
          "text": [
            "training data has 458 observation with 30 terms\n",
            "test data has 153 observation with 30 terms\n"
          ]
        }
      ]
    },
    {
      "cell_type": "markdown",
      "source": [
        "Part 3.1: Model Training"
      ],
      "metadata": {
        "id": "sXoNtTUpLFV0"
      }
    },
    {
      "cell_type": "code",
      "source": [
        "from sklearn.linear_model import LogisticRegression\n",
        "# Logistic Regression\n",
        "classifier_logistic = LogisticRegression()"
      ],
      "metadata": {
        "id": "uPlG8Mj0Kuhz"
      },
      "execution_count": null,
      "outputs": []
    },
    {
      "cell_type": "code",
      "source": [
        "# Train the model\n",
        "classifier_logistic.fit(X_train, y_train)"
      ],
      "metadata": {
        "colab": {
          "base_uri": "https://localhost:8080/"
        },
        "id": "g_nuq3mFLSXl",
        "outputId": "f2b234e1-a5c6-46de-b409-c0aa927988c8"
      },
      "execution_count": null,
      "outputs": [
        {
          "output_type": "execute_result",
          "data": {
            "text/plain": [
              "LogisticRegression()"
            ]
          },
          "metadata": {},
          "execution_count": 82
        }
      ]
    },
    {
      "cell_type": "code",
      "source": [
        "classifier_logistic.predict_proba(X_test)[:,0] #level 1 prob"
      ],
      "metadata": {
        "colab": {
          "base_uri": "https://localhost:8080/"
        },
        "id": "CUMM1KdmPAHW",
        "outputId": "9bb81538-493a-40d3-cc03-f2b4c32489e0"
      },
      "execution_count": null,
      "outputs": [
        {
          "output_type": "execute_result",
          "data": {
            "text/plain": [
              "array([0.9129877 , 0.05960471, 0.05804984, 0.01423298, 0.03303313,\n",
              "       0.03507937, 0.24120611, 0.72215986, 0.0284623 , 0.47378221,\n",
              "       0.01751924, 0.41360503, 0.0159542 , 0.03555594, 0.02575838,\n",
              "       0.018158  , 0.00720061, 0.16738899, 0.01906898, 0.02802304,\n",
              "       0.16589622, 0.2095208 , 0.03793172, 0.05568895, 0.57117665,\n",
              "       0.0343285 , 0.07979531, 0.03253936, 0.30507165, 0.08032346,\n",
              "       0.10348613, 0.03889204, 0.03848769, 0.02911759, 0.39525437,\n",
              "       0.04576784, 0.01849791, 0.02780793, 0.01309061, 0.01994023,\n",
              "       0.09166682, 0.02266424, 0.01411052, 0.05025222, 0.07363688,\n",
              "       0.04707441, 0.04798437, 0.02225059, 0.02484133, 0.02371816,\n",
              "       0.00786931, 0.02287675, 0.02465188, 0.05020825, 0.0764967 ,\n",
              "       0.05430258, 0.02583236, 0.07669711, 0.16819243, 0.05523721,\n",
              "       0.15986794, 0.09978955, 0.13494382, 0.60980693, 0.04817296,\n",
              "       0.24946839, 0.025329  , 0.07748808, 0.05345116, 0.04548723,\n",
              "       0.02912163, 0.02970459, 0.04784498, 0.24674055, 0.20269435,\n",
              "       0.11277929, 0.113427  , 0.01157525, 0.17236241, 0.16630415,\n",
              "       0.3866825 , 0.0857087 , 0.03411813, 0.01028222, 0.16466155,\n",
              "       0.01431575, 0.2591523 , 0.21898805, 0.0389018 , 0.79398579,\n",
              "       0.05701139, 0.07100268, 0.04287349, 0.01345881, 0.09868799,\n",
              "       0.03457706, 0.05742537, 0.02026835, 0.21090532, 0.07501327,\n",
              "       0.89093074, 0.01568081, 0.04223272, 0.07434537, 0.06132996,\n",
              "       0.87730892, 0.02359097, 0.7916078 , 0.04277538, 0.02796634,\n",
              "       0.01692916, 0.02166307, 0.02579786, 0.07735482, 0.01640891,\n",
              "       0.05961303, 0.13740418, 0.02139958, 0.04021478, 0.08747784,\n",
              "       0.29752992, 0.04079218, 0.0564331 , 0.46115928, 0.02944699,\n",
              "       0.22233293, 0.03647126, 0.01647396, 0.01459183, 0.00621707,\n",
              "       0.06219731, 0.22609478, 0.08075984, 0.01313304, 0.02879949,\n",
              "       0.08315151, 0.01967898, 0.15635256, 0.62997806, 0.60476362,\n",
              "       0.06875605, 0.19001772, 0.02207224, 0.00919395, 0.02266424,\n",
              "       0.04874439, 0.03500698, 0.2465715 , 0.14161151, 0.2265924 ,\n",
              "       0.01550852, 0.01314351, 0.27663349])"
            ]
          },
          "metadata": {},
          "execution_count": 83
        }
      ]
    },
    {
      "cell_type": "code",
      "source": [
        "classifier_logistic.score(X_test, y_test) #accuracy"
      ],
      "metadata": {
        "colab": {
          "base_uri": "https://localhost:8080/"
        },
        "id": "Fu0zB0ffPLNr",
        "outputId": "23635c33-b554-4c28-b475-a21f81eba782"
      },
      "execution_count": null,
      "outputs": [
        {
          "output_type": "execute_result",
          "data": {
            "text/plain": [
              "0.9084967320261438"
            ]
          },
          "metadata": {},
          "execution_count": 84
        }
      ]
    },
    {
      "cell_type": "code",
      "source": [
        "y_axis = classifier_logistic.predict_proba(X_tf)[:,0]"
      ],
      "metadata": {
        "id": "lvg9yNONiMCS"
      },
      "execution_count": null,
      "outputs": []
    },
    {
      "cell_type": "code",
      "source": [
        "from sklearn.metrics import roc_auc_score\n",
        "auc = roc_auc_score(y_test, classifier_logistic.predict_proba(X_test)[:,1])\n",
        "auc"
      ],
      "metadata": {
        "colab": {
          "base_uri": "https://localhost:8080/"
        },
        "id": "sc4NH2w21iQX",
        "outputId": "4e8fba7d-cac7-4933-8f99-37b47b877332"
      },
      "execution_count": null,
      "outputs": [
        {
          "output_type": "execute_result",
          "data": {
            "text/plain": [
              "0.938345864661654"
            ]
          },
          "metadata": {},
          "execution_count": 86
        }
      ]
    },
    {
      "cell_type": "code",
      "source": [
        "from sklearn.metrics import roc_curve, auc\n",
        "def Find_Optimal_Cutoff(target, predicted):\n",
        "  fpr, tpr, threshold = roc_curve(y_test, classifier_logistic.predict_proba(X_test)[:,1])\n",
        "  i = np.arange(len(tpr))\n",
        "  roc = pd.DataFrame({'tf' : pd.Series(tpr-(1-fpr), index=i), 'threshold' : pd.Series(threshold, index=i)})\n",
        "  roc_t = roc.iloc[(roc.tf-0).abs().argsort()[:1]]\n",
        "  return list(roc_t['threshold'])"
      ],
      "metadata": {
        "id": "qaOGybFf4KBH"
      },
      "execution_count": null,
      "outputs": []
    },
    {
      "cell_type": "code",
      "source": [
        "threshold = Find_Optimal_Cutoff(y_test, classifier_logistic.predict_proba(X_test)[:,0])\n",
        "threshold"
      ],
      "metadata": {
        "colab": {
          "base_uri": "https://localhost:8080/"
        },
        "id": "0CMwg7NQDTHm",
        "outputId": "3fd7336f-c14a-4036-f5ff-f3cfae38e17c"
      },
      "execution_count": null,
      "outputs": [
        {
          "output_type": "execute_result",
          "data": {
            "text/plain": [
              "[0.8326110110038114]"
            ]
          },
          "metadata": {},
          "execution_count": 88
        }
      ]
    },
    {
      "cell_type": "code",
      "source": [
        "def to_labels(pos_probs, threshold):\n",
        " return (pos_probs >= threshold).astype('int')\n",
        "a = to_labels(classifier_logistic.predict_proba(X_test)[:,1],0.832)\n",
        "\n",
        "from sklearn.metrics import precision_score, recall_score, f1_score, accuracy_score\n",
        "accuracy_score(y_test, a)"
      ],
      "metadata": {
        "colab": {
          "base_uri": "https://localhost:8080/"
        },
        "id": "vkcCClk1En6u",
        "outputId": "e44f575f-fc91-45ad-810a-1c83fb7765d7"
      },
      "execution_count": null,
      "outputs": [
        {
          "output_type": "execute_result",
          "data": {
            "text/plain": [
              "0.8627450980392157"
            ]
          },
          "metadata": {},
          "execution_count": 89
        }
      ]
    },
    {
      "cell_type": "code",
      "source": [
        "precision_score(y_test, a)"
      ],
      "metadata": {
        "colab": {
          "base_uri": "https://localhost:8080/"
        },
        "id": "SuzfHUEZJqli",
        "outputId": "34d87962-119e-48c8-a788-e5304152127b"
      },
      "execution_count": null,
      "outputs": [
        {
          "output_type": "execute_result",
          "data": {
            "text/plain": [
              "0.9666666666666667"
            ]
          },
          "metadata": {},
          "execution_count": 90
        }
      ]
    },
    {
      "cell_type": "code",
      "source": [
        "recall_score(y_test, a)"
      ],
      "metadata": {
        "colab": {
          "base_uri": "https://localhost:8080/"
        },
        "id": "CgGG472LG3GE",
        "outputId": "41260c7d-1103-4ab1-dbc2-fc59f443a218"
      },
      "execution_count": null,
      "outputs": [
        {
          "output_type": "execute_result",
          "data": {
            "text/plain": [
              "0.8721804511278195"
            ]
          },
          "metadata": {},
          "execution_count": 91
        }
      ]
    },
    {
      "cell_type": "code",
      "source": [
        "f1_score(y_test, a)"
      ],
      "metadata": {
        "colab": {
          "base_uri": "https://localhost:8080/"
        },
        "id": "_TeZ2dHBJuka",
        "outputId": "5c2d91c4-20bb-456a-8ba5-c1c7b82b124c"
      },
      "execution_count": null,
      "outputs": [
        {
          "output_type": "execute_result",
          "data": {
            "text/plain": [
              "0.91699604743083"
            ]
          },
          "metadata": {},
          "execution_count": 92
        }
      ]
    },
    {
      "cell_type": "markdown",
      "source": [
        "# Part 4: Coh-metrix Features Random Forest Select Important Features"
      ],
      "metadata": {
        "id": "zNXn8GNCV6Xf"
      }
    },
    {
      "cell_type": "code",
      "source": [
        "to_drop = [\"Type\", \"Type_num\", \"Responses\"]\n",
        "y_cm = df[\"Type_num\"]\n",
        "X_cm = df.drop(to_drop, axis=1)"
      ],
      "metadata": {
        "id": "GDjQijYmWnIC"
      },
      "execution_count": null,
      "outputs": []
    },
    {
      "cell_type": "code",
      "source": [
        "from sklearn import model_selection\n",
        "X_train_cm, X_test_cm, y_train_cm, y_test_cm = model_selection.train_test_split(X_cm, y_cm, test_size=0.25, stratify = y_cm, random_state=1) #stratified sampling,\n",
        "\n",
        "print('training data has ' + str(X_train_cm.shape[0]) + ' observation with ' + str(X_train_cm.shape[1]) + ' features')\n",
        "print('test data has ' + str(X_test_cm.shape[0]) + ' observation with ' + str(X_test_cm.shape[1]) + ' features')"
      ],
      "metadata": {
        "colab": {
          "base_uri": "https://localhost:8080/"
        },
        "id": "yKz7sULVXpJY",
        "outputId": "60904a7e-7392-4294-bc5d-fbd5786d7479"
      },
      "execution_count": null,
      "outputs": [
        {
          "output_type": "stream",
          "name": "stdout",
          "text": [
            "training data has 458 observation with 108 features\n",
            "test data has 153 observation with 108 features\n"
          ]
        }
      ]
    },
    {
      "cell_type": "code",
      "source": [
        "from sklearn.ensemble import RandomForestClassifier\n",
        "# Random Forest\n",
        "classifier_RF = RandomForestClassifier(n_estimators=500,\n",
        "                                random_state=1)\n",
        "classifier_RF.fit(X_train_cm, y_train_cm)"
      ],
      "metadata": {
        "colab": {
          "base_uri": "https://localhost:8080/"
        },
        "id": "rRAvgIsKWUGi",
        "outputId": "8f44e1e2-6f21-4ffc-9c5c-a5899cbf0ad2"
      },
      "execution_count": null,
      "outputs": [
        {
          "output_type": "execute_result",
          "data": {
            "text/plain": [
              "RandomForestClassifier(n_estimators=500, random_state=1)"
            ]
          },
          "metadata": {},
          "execution_count": 95
        }
      ]
    },
    {
      "cell_type": "code",
      "source": [
        "from sklearn.model_selection import GridSearchCV\n",
        "\n",
        "# helper function for printing out grid search results\n",
        "def print_grid_search_metrics(gs):\n",
        "    print (\"Best score: \" + str(gs.best_score_))\n",
        "    print (\"Best parameters set:\")\n",
        "    best_parameters = gs.best_params_\n",
        "    for param_name in sorted(best_parameters.keys()):\n",
        "        print(param_name + ':' + str(best_parameters[param_name]))"
      ],
      "metadata": {
        "id": "qdyc_rsZYRme"
      },
      "execution_count": null,
      "outputs": []
    },
    {
      "cell_type": "code",
      "source": [
        "importances = classifier_RF.feature_importances_"
      ],
      "metadata": {
        "id": "oc7CxNizYmdZ"
      },
      "execution_count": null,
      "outputs": []
    },
    {
      "cell_type": "code",
      "source": [
        "feat_labels"
      ],
      "metadata": {
        "colab": {
          "base_uri": "https://localhost:8080/"
        },
        "id": "hRHltdNX_w4x",
        "outputId": "e6452cca-9d10-4793-8e0a-027e58f4809a"
      },
      "execution_count": null,
      "outputs": [
        {
          "output_type": "execute_result",
          "data": {
            "text/plain": [
              "Index(['DESPC', 'DESSC', 'DESWC', 'DESPL', 'DESPLd', 'DESSL', 'DESSLd',\n",
              "       'DESWLsy', 'DESWLsyd', 'DESWLlt',\n",
              "       ...\n",
              "       'WRDCNCc', 'WRDIMGc', 'WRDMEAc', 'WRDPOLc', 'WRDHYPn', 'WRDHYPv',\n",
              "       'WRDHYPnv', 'RDFRE', 'RDFKGL', 'RDL2'],\n",
              "      dtype='object', length=108)"
            ]
          },
          "metadata": {},
          "execution_count": 99
        }
      ]
    },
    {
      "cell_type": "code",
      "source": [
        "plt.barh(feat_labels, classifier_RF.feature_importances_)"
      ],
      "metadata": {
        "colab": {
          "base_uri": "https://localhost:8080/",
          "height": 282
        },
        "id": "-5Qii6PZ_Mkc",
        "outputId": "89954077-788f-4f32-eafe-faeb23f91dd5"
      },
      "execution_count": null,
      "outputs": [
        {
          "output_type": "execute_result",
          "data": {
            "text/plain": [
              "<BarContainer object of 108 artists>"
            ]
          },
          "metadata": {},
          "execution_count": 100
        },
        {
          "output_type": "display_data",
          "data": {
            "text/plain": [
              "<Figure size 432x288 with 1 Axes>"
            ],
            "image/png": "[encoded data removed]"
          },
          "metadata": {
            "needs_background": "light"
          }
        }
      ]
    },
    {
      "cell_type": "code",
      "source": [
        "sorted_indices = np.argsort(importances)[::-1]\n",
        "\n",
        "feat_labels = df.columns[3:]\n",
        "\n",
        "for f in range(X_train_cm.shape[1]):\n",
        "    print(\"%2d) %-*s %f\" % (f + 1, 30,\n",
        "                            feat_labels[sorted_indices[f]],\n",
        "                            importances[sorted_indices[f]]))"
      ],
      "metadata": {
        "colab": {
          "base_uri": "https://localhost:8080/"
        },
        "id": "J_I-d-_qaonL",
        "outputId": "471f0c2f-0c35-4d67-dfa3-7926af13323a"
      },
      "execution_count": null,
      "outputs": [
        {
          "output_type": "stream",
          "name": "stdout",
          "text": [
            " 1) WRDFAMc                        0.079821\n",
            " 2) RDFRE                          0.077987\n",
            " 3) WRDFRQc                        0.072434\n",
            " 4) WRDNOUN                        0.063416\n",
            " 5) WRDAOAc                        0.061628\n",
            " 6) WRDHYPnv                       0.057767\n",
            " 7) DESWLlt                        0.051321\n",
            " 8) RDFKGL                         0.047347\n",
            " 9) DESWLsyd                       0.034287\n",
            "10) DESWLsy                        0.031330\n",
            "11) DESWLltd                       0.029975\n",
            "12) DESWC                          0.024928\n",
            "13) DESSL                          0.020304\n",
            "14) SMINTEp                        0.017249\n",
            "15) DRVP                           0.016526\n",
            "16) LDTTRa                         0.015176\n",
            "17) PCSYNz                         0.013556\n",
            "18) PCSYNp                         0.012181\n",
            "19) RDL2                           0.011705\n",
            "20) SMCAUSv                        0.010914\n",
            "21) LDTTRc                         0.010612\n",
            "22) PCVERBp                        0.010380\n",
            "23) WRDFRQa                        0.009267\n",
            "24) SYNLE                          0.008508\n",
            "25) WRDFRQmc                       0.008402\n",
            "26) PCVERBz                        0.007825\n",
            "27) WRDADV                         0.007353\n",
            "28) CNCLogic                       0.006811\n",
            "29) DRPP                           0.006410\n",
            "30) PCCONNp                        0.005940\n",
            "31) WRDHYPn                        0.005793\n",
            "32) CNCAdd                         0.005597\n",
            "33) SYNNP                          0.005394\n",
            "34) SMCAUSvp                       0.005314\n",
            "35) PCNARz                         0.005273\n",
            "36) WRDPOLc                        0.005185\n",
            "37) DRGERUND                       0.004901\n",
            "38) PCTEMPz                        0.004708\n",
            "39) LDMTLD                         0.004651\n",
            "40) WRDCNCc                        0.004354\n",
            "41) PCCONNz                        0.004293\n",
            "42) SYNSTRUTt                      0.004153\n",
            "43) PCNARp                         0.003871\n",
            "44) CNCPos                         0.003677\n",
            "45) PCREFp                         0.003622\n",
            "46) SMCAUSwn                       0.003571\n",
            "47) DRNP                           0.003460\n",
            "48) CNCADC                         0.003393\n",
            "49) SMCAUSlsa                      0.003212\n",
            "50) PCCNCz                         0.003157\n",
            "51) SYNSTRUTa                      0.003110\n",
            "52) PCDCz                          0.003060\n",
            "53) WRDHYPv                        0.003054\n",
            "54) WRDADJ                         0.002918\n",
            "55) LSAGNd                         0.002863\n",
            "56) LSASSp                         0.002803\n",
            "57) WRDPRO                         0.002790\n",
            "58) LSASS1                         0.002752\n",
            "59) PCREFz                         0.002591\n",
            "60) CNCCaus                        0.002562\n",
            "61) PCDCp                          0.002451\n",
            "62) DESSLd                         0.002416\n",
            "63) CNCNeg                         0.002331\n",
            "64) WRDMEAc                        0.002313\n",
            "65) DRINF                          0.002254\n",
            "66) PCCNCp                         0.002247\n",
            "67) PCTEMPp                        0.002193\n",
            "68) WRDIMGc                        0.002182\n",
            "69) DRAP                           0.002176\n",
            "70) SYNMEDwrd                      0.002136\n",
            "71) SYNMEDpos                      0.002098\n",
            "72) CNCAll                         0.001956\n",
            "73) SYNMEDlem                      0.001897\n",
            "74) DESSC                          0.001843\n",
            "75) WRDVERB                        0.001728\n",
            "76) SMCAUSr                        0.001619\n",
            "77) CNCTempx                       0.001577\n",
            "78) LSAGN                          0.001549\n",
            "79) DESPL                          0.001450\n",
            "80) CNCTemp                        0.001375\n",
            "81) DRPVAL                         0.001342\n",
            "82) SMTEMP                         0.001312\n",
            "83) CRFCWO1                        0.001109\n",
            "84) CRFCWOa                        0.001032\n",
            "85) WRDPRP3p                       0.001021\n",
            "86) CRFNO1                         0.000661\n",
            "87) LSASSpd                        0.000630\n",
            "88) DRNEG                          0.000598\n",
            "89) CRFANP1                        0.000527\n",
            "90) CRFNOa                         0.000514\n",
            "91) SMINTEr                        0.000494\n",
            "92) CRFANPa                        0.000464\n",
            "93) CRFCWO1d                       0.000450\n",
            "94) CRFAO1                         0.000438\n",
            "95) LSASS1d                        0.000423\n",
            "96) WRDPRP1s                       0.000385\n",
            "97) CRFAOa                         0.000354\n",
            "98) CRFSO1                         0.000332\n",
            "99) CRFSOa                         0.000265\n",
            "100) CRFCWOad                       0.000238\n",
            "101) WRDPRP2                        0.000111\n",
            "102) WRDPRP1p                       0.000069\n",
            "103) LSAPP1d                        0.000000\n",
            "104) LDVOCD                         0.000000\n",
            "105) DESPLd                         0.000000\n",
            "106) LSAPP1                         0.000000\n",
            "107) WRDPRP3s                       0.000000\n",
            "108) DESPC                          0.000000\n"
          ]
        }
      ]
    },
    {
      "cell_type": "code",
      "source": [
        "sorted_indices"
      ],
      "metadata": {
        "colab": {
          "base_uri": "https://localhost:8080/"
        },
        "id": "NxClVQhVa1LV",
        "outputId": "824a920b-7228-4dbb-b2c3-a83e0b8903ca"
      },
      "execution_count": null,
      "outputs": [
        {
          "output_type": "execute_result",
          "data": {
            "text/plain": [
              "array([ 97, 105,  93,  83,  96, 104,   9, 106,   8,   7,  10,   2,   5,\n",
              "        62,  76,  48,  13,  14, 107,  60,  47,  22,  94,  68,  95,  21,\n",
              "        86,  53,  78,  24, 102,  57,  69,  61,  11, 101,  81,  25,  49,\n",
              "        98,  23,  74,  12,  58,  18,  66,  75,  54,  65,  15,  73,  19,\n",
              "       103,  85,  46,  41,  87,  39,  17,  52,  20,   6,  59, 100,  82,\n",
              "        16,  26,  99,  77,  71,  70,  51,  72,   1,  84,  63,  56,  45,\n",
              "         3,  55,  79,  67,  33,  35,  92,  27,  42,  80,  37,  30,  64,\n",
              "        38,  34,  28,  40,  88,  31,  29,  32,  36,  90,  89,  44,  50,\n",
              "         4,  43,  91,   0])"
            ]
          },
          "metadata": {},
          "execution_count": 102
        }
      ]
    },
    {
      "cell_type": "markdown",
      "source": [
        "# Part 5: Logistic Regression on CM features"
      ],
      "metadata": {
        "id": "ftqpNmXVcLJ8"
      }
    },
    {
      "cell_type": "code",
      "source": [
        "y_selected_cm = df[\"Type_num\"]\n",
        "X_selected_cm = X_cm.loc[:,[\"WRDFAMc\", \"WRDFRQc\", \"WRDNOUN\", \"DESWLlt\", \"WRDHYPnv\", \"DESWLltd\", \"LDTTRa\", \"WRDADV\", \"DESSL\", \"DRVP\", \"DESSLd\", \"SYNLE\", \"SYNSTRUTt\", \"DESWC\", \"SMCAUSv\", \"CNCLogic\", \"PCDCp\"]]"
      ],
      "metadata": {
        "id": "BXA77cYwcGT7"
      },
      "execution_count": null,
      "outputs": []
    },
    {
      "cell_type": "code",
      "source": [
        "X_cm"
      ],
      "metadata": {
        "colab": {
          "base_uri": "https://localhost:8080/",
          "height": 487
        },
        "id": "5O7IE3ZPd5cb",
        "outputId": "633fd9b0-7f34-4e91-867e-45108f3b36ea"
      },
      "execution_count": null,
      "outputs": [
        {
          "output_type": "execute_result",
          "data": {
            "text/plain": [
              "     DESPC  DESSC  DESWC  DESPL  DESPLd  DESSL  DESSLd  DESWLsy  DESWLsyd  \\\n",
              "0      1.0    1.0   35.0    1.0     0.0   35.0   0.000    1.510     0.610   \n",
              "1      1.0    1.0   32.0    1.0     0.0   33.0   0.000    1.970     1.200   \n",
              "2      1.0    1.0   37.0    1.0     0.0   37.0   0.000    1.870     0.980   \n",
              "3      1.0    1.0   34.0    1.0     0.0   34.0   0.000    2.060     1.010   \n",
              "4      1.0    1.0   42.0    1.0     0.0   43.0   0.000    1.950     1.060   \n",
              "..     ...    ...    ...    ...     ...    ...     ...      ...       ...   \n",
              "606    1.0    1.0   15.0    1.0     0.0   15.0   0.000    1.600     0.828   \n",
              "607    1.0    2.0   51.0    2.0     0.0   26.0   7.071    1.392     0.750   \n",
              "608    1.0    2.0   41.0    2.0     0.0   21.0   7.071    1.415     0.805   \n",
              "609    1.0    1.0    3.0    1.0     0.0    3.0   0.000    2.000     1.000   \n",
              "610    1.0    1.0   18.0    1.0     0.0   18.0   0.000    1.389     0.502   \n",
              "\n",
              "     DESWLlt  ...     WRDCNCc     WRDIMGc     WRDMEAc  WRDPOLc  WRDHYPn  \\\n",
              "0      4.630  ...  459.850000  459.570000  457.100000    3.590    6.740   \n",
              "1      5.560  ...  491.910000  469.230000  481.000000    4.210    5.930   \n",
              "2      5.700  ...  417.190000  449.630000  433.780000    3.670    6.790   \n",
              "3      6.210  ...  416.810000  459.560000  521.000000    3.230    6.450   \n",
              "4      6.070  ...  443.560000  444.850000  452.360000    4.180    7.250   \n",
              "..       ...  ...         ...         ...         ...      ...      ...   \n",
              "606    4.867  ...  395.625000  440.625000  521.599976    3.813    6.729   \n",
              "607    4.137  ...  385.614990  398.833008  418.614990    4.618    7.628   \n",
              "608    4.293  ...  481.200012  486.000000  473.071014    4.116    7.105   \n",
              "609    6.000  ...  523.000000  526.000000  508.000000    1.667   10.167   \n",
              "610    4.444  ...  415.375000  443.000000  449.143005    6.000    5.971   \n",
              "\n",
              "     WRDHYPv  WRDHYPnv      RDFRE  RDFKGL    RDL2  \n",
              "0      2.540     2.810  43.230000  15.930   1.870  \n",
              "1      2.210     2.590   7.780000  20.120   0.200  \n",
              "2      0.720     3.280  11.500000  20.850  -1.200  \n",
              "3      2.120     2.940   0.000000  21.970  -5.880  \n",
              "4      1.880     3.590   0.000000  23.820  -0.590  \n",
              "..       ...       ...        ...     ...     ...  \n",
              "606    1.875     2.758  56.250000   9.140   4.330  \n",
              "607    1.225     1.726  63.188999  10.781  12.683  \n",
              "608    1.498     2.714  66.319000   9.102  17.480  \n",
              "609    0.000     6.778  34.590000   9.180 -11.057  \n",
              "610    1.219     1.385  71.056000   7.820  12.055  \n",
              "\n",
              "[611 rows x 108 columns]"
            ],
            "text/html": [
              "\n",
              "  <div id=\"df-fc403d3d-9612-4b4e-bb96-1549fdd697cd\">\n",
              "    <div class=\"colab-df-container\">\n",
              "      <div>\n",
              "<style scoped>\n",
              "    .dataframe tbody tr th:only-of-type {\n",
              "        vertical-align: middle;\n",
              "    }\n",
              "\n",
              "    .dataframe tbody tr th {\n",
              "        vertical-align: top;\n",
              "    }\n",
              "\n",
              "    .dataframe thead th {\n",
              "        text-align: right;\n",
              "    }\n",
              "</style>\n",
              "<table border=\"1\" class=\"dataframe\">\n",
              "  <thead>\n",
              "    <tr style=\"text-align: right;\">\n",
              "      <th></th>\n",
              "      <th>DESPC</th>\n",
              "      <th>DESSC</th>\n",
              "      <th>DESWC</th>\n",
              "      <th>DESPL</th>\n",
              "      <th>DESPLd</th>\n",
              "      <th>DESSL</th>\n",
              "      <th>DESSLd</th>\n",
              "      <th>DESWLsy</th>\n",
              "      <th>DESWLsyd</th>\n",
              "      <th>DESWLlt</th>\n",
              "      <th>...</th>\n",
              "      <th>WRDCNCc</th>\n",
              "      <th>WRDIMGc</th>\n",
              "      <th>WRDMEAc</th>\n",
              "      <th>WRDPOLc</th>\n",
              "      <th>WRDHYPn</th>\n",
              "      <th>WRDHYPv</th>\n",
              "      <th>WRDHYPnv</th>\n",
              "      <th>RDFRE</th>\n",
              "      <th>RDFKGL</th>\n",
              "      <th>RDL2</th>\n",
              "    </tr>\n",
              "  </thead>\n",
              "  <tbody>\n",
              "    <tr>\n",
              "      <th>0</th>\n",
              "      <td>1.0</td>\n",
              "      <td>1.0</td>\n",
              "      <td>35.0</td>\n",
              "      <td>1.0</td>\n",
              "      <td>0.0</td>\n",
              "      <td>35.0</td>\n",
              "      <td>0.000</td>\n",
              "      <td>1.510</td>\n",
              "      <td>0.610</td>\n",
              "      <td>4.630</td>\n",
              "      <td>...</td>\n",
              "      <td>459.850000</td>\n",
              "      <td>459.570000</td>\n",
              "      <td>457.100000</td>\n",
              "      <td>3.590</td>\n",
              "      <td>6.740</td>\n",
              "      <td>2.540</td>\n",
              "      <td>2.810</td>\n",
              "      <td>43.230000</td>\n",
              "      <td>15.930</td>\n",
              "      <td>1.870</td>\n",
              "    </tr>\n",
              "    <tr>\n",
              "      <th>1</th>\n",
              "      <td>1.0</td>\n",
              "      <td>1.0</td>\n",
              "      <td>32.0</td>\n",
              "      <td>1.0</td>\n",
              "      <td>0.0</td>\n",
              "      <td>33.0</td>\n",
              "      <td>0.000</td>\n",
              "      <td>1.970</td>\n",
              "      <td>1.200</td>\n",
              "      <td>5.560</td>\n",
              "      <td>...</td>\n",
              "      <td>491.910000</td>\n",
              "      <td>469.230000</td>\n",
              "      <td>481.000000</td>\n",
              "      <td>4.210</td>\n",
              "      <td>5.930</td>\n",
              "      <td>2.210</td>\n",
              "      <td>2.590</td>\n",
              "      <td>7.780000</td>\n",
              "      <td>20.120</td>\n",
              "      <td>0.200</td>\n",
              "    </tr>\n",
              "    <tr>\n",
              "      <th>2</th>\n",
              "      <td>1.0</td>\n",
              "      <td>1.0</td>\n",
              "      <td>37.0</td>\n",
              "      <td>1.0</td>\n",
              "      <td>0.0</td>\n",
              "      <td>37.0</td>\n",
              "      <td>0.000</td>\n",
              "      <td>1.870</td>\n",
              "      <td>0.980</td>\n",
              "      <td>5.700</td>\n",
              "      <td>...</td>\n",
              "      <td>417.190000</td>\n",
              "      <td>449.630000</td>\n",
              "      <td>433.780000</td>\n",
              "      <td>3.670</td>\n",
              "      <td>6.790</td>\n",
              "      <td>0.720</td>\n",
              "      <td>3.280</td>\n",
              "      <td>11.500000</td>\n",
              "      <td>20.850</td>\n",
              "      <td>-1.200</td>\n",
              "    </tr>\n",
              "    <tr>\n",
              "      <th>3</th>\n",
              "      <td>1.0</td>\n",
              "      <td>1.0</td>\n",
              "      <td>34.0</td>\n",
              "      <td>1.0</td>\n",
              "      <td>0.0</td>\n",
              "      <td>34.0</td>\n",
              "      <td>0.000</td>\n",
              "      <td>2.060</td>\n",
              "      <td>1.010</td>\n",
              "      <td>6.210</td>\n",
              "      <td>...</td>\n",
              "      <td>416.810000</td>\n",
              "      <td>459.560000</td>\n",
              "      <td>521.000000</td>\n",
              "      <td>3.230</td>\n",
              "      <td>6.450</td>\n",
              "      <td>2.120</td>\n",
              "      <td>2.940</td>\n",
              "      <td>0.000000</td>\n",
              "      <td>21.970</td>\n",
              "      <td>-5.880</td>\n",
              "    </tr>\n",
              "    <tr>\n",
              "      <th>4</th>\n",
              "      <td>1.0</td>\n",
              "      <td>1.0</td>\n",
              "      <td>42.0</td>\n",
              "      <td>1.0</td>\n",
              "      <td>0.0</td>\n",
              "      <td>43.0</td>\n",
              "      <td>0.000</td>\n",
              "      <td>1.950</td>\n",
              "      <td>1.060</td>\n",
              "      <td>6.070</td>\n",
              "      <td>...</td>\n",
              "      <td>443.560000</td>\n",
              "      <td>444.850000</td>\n",
              "      <td>452.360000</td>\n",
              "      <td>4.180</td>\n",
              "      <td>7.250</td>\n",
              "      <td>1.880</td>\n",
              "      <td>3.590</td>\n",
              "      <td>0.000000</td>\n",
              "      <td>23.820</td>\n",
              "      <td>-0.590</td>\n",
              "    </tr>\n",
              "    <tr>\n",
              "      <th>...</th>\n",
              "      <td>...</td>\n",
              "      <td>...</td>\n",
              "      <td>...</td>\n",
              "      <td>...</td>\n",
              "      <td>...</td>\n",
              "      <td>...</td>\n",
              "      <td>...</td>\n",
              "      <td>...</td>\n",
              "      <td>...</td>\n",
              "      <td>...</td>\n",
              "      <td>...</td>\n",
              "      <td>...</td>\n",
              "      <td>...</td>\n",
              "      <td>...</td>\n",
              "      <td>...</td>\n",
              "      <td>...</td>\n",
              "      <td>...</td>\n",
              "      <td>...</td>\n",
              "      <td>...</td>\n",
              "      <td>...</td>\n",
              "      <td>...</td>\n",
              "    </tr>\n",
              "    <tr>\n",
              "      <th>606</th>\n",
              "      <td>1.0</td>\n",
              "      <td>1.0</td>\n",
              "      <td>15.0</td>\n",
              "      <td>1.0</td>\n",
              "      <td>0.0</td>\n",
              "      <td>15.0</td>\n",
              "      <td>0.000</td>\n",
              "      <td>1.600</td>\n",
              "      <td>0.828</td>\n",
              "      <td>4.867</td>\n",
              "      <td>...</td>\n",
              "      <td>395.625000</td>\n",
              "      <td>440.625000</td>\n",
              "      <td>521.599976</td>\n",
              "      <td>3.813</td>\n",
              "      <td>6.729</td>\n",
              "      <td>1.875</td>\n",
              "      <td>2.758</td>\n",
              "      <td>56.250000</td>\n",
              "      <td>9.140</td>\n",
              "      <td>4.330</td>\n",
              "    </tr>\n",
              "    <tr>\n",
              "      <th>607</th>\n",
              "      <td>1.0</td>\n",
              "      <td>2.0</td>\n",
              "      <td>51.0</td>\n",
              "      <td>2.0</td>\n",
              "      <td>0.0</td>\n",
              "      <td>26.0</td>\n",
              "      <td>7.071</td>\n",
              "      <td>1.392</td>\n",
              "      <td>0.750</td>\n",
              "      <td>4.137</td>\n",
              "      <td>...</td>\n",
              "      <td>385.614990</td>\n",
              "      <td>398.833008</td>\n",
              "      <td>418.614990</td>\n",
              "      <td>4.618</td>\n",
              "      <td>7.628</td>\n",
              "      <td>1.225</td>\n",
              "      <td>1.726</td>\n",
              "      <td>63.188999</td>\n",
              "      <td>10.781</td>\n",
              "      <td>12.683</td>\n",
              "    </tr>\n",
              "    <tr>\n",
              "      <th>608</th>\n",
              "      <td>1.0</td>\n",
              "      <td>2.0</td>\n",
              "      <td>41.0</td>\n",
              "      <td>2.0</td>\n",
              "      <td>0.0</td>\n",
              "      <td>21.0</td>\n",
              "      <td>7.071</td>\n",
              "      <td>1.415</td>\n",
              "      <td>0.805</td>\n",
              "      <td>4.293</td>\n",
              "      <td>...</td>\n",
              "      <td>481.200012</td>\n",
              "      <td>486.000000</td>\n",
              "      <td>473.071014</td>\n",
              "      <td>4.116</td>\n",
              "      <td>7.105</td>\n",
              "      <td>1.498</td>\n",
              "      <td>2.714</td>\n",
              "      <td>66.319000</td>\n",
              "      <td>9.102</td>\n",
              "      <td>17.480</td>\n",
              "    </tr>\n",
              "    <tr>\n",
              "      <th>609</th>\n",
              "      <td>1.0</td>\n",
              "      <td>1.0</td>\n",
              "      <td>3.0</td>\n",
              "      <td>1.0</td>\n",
              "      <td>0.0</td>\n",
              "      <td>3.0</td>\n",
              "      <td>0.000</td>\n",
              "      <td>2.000</td>\n",
              "      <td>1.000</td>\n",
              "      <td>6.000</td>\n",
              "      <td>...</td>\n",
              "      <td>523.000000</td>\n",
              "      <td>526.000000</td>\n",
              "      <td>508.000000</td>\n",
              "      <td>1.667</td>\n",
              "      <td>10.167</td>\n",
              "      <td>0.000</td>\n",
              "      <td>6.778</td>\n",
              "      <td>34.590000</td>\n",
              "      <td>9.180</td>\n",
              "      <td>-11.057</td>\n",
              "    </tr>\n",
              "    <tr>\n",
              "      <th>610</th>\n",
              "      <td>1.0</td>\n",
              "      <td>1.0</td>\n",
              "      <td>18.0</td>\n",
              "      <td>1.0</td>\n",
              "      <td>0.0</td>\n",
              "      <td>18.0</td>\n",
              "      <td>0.000</td>\n",
              "      <td>1.389</td>\n",
              "      <td>0.502</td>\n",
              "      <td>4.444</td>\n",
              "      <td>...</td>\n",
              "      <td>415.375000</td>\n",
              "      <td>443.000000</td>\n",
              "      <td>449.143005</td>\n",
              "      <td>6.000</td>\n",
              "      <td>5.971</td>\n",
              "      <td>1.219</td>\n",
              "      <td>1.385</td>\n",
              "      <td>71.056000</td>\n",
              "      <td>7.820</td>\n",
              "      <td>12.055</td>\n",
              "    </tr>\n",
              "  </tbody>\n",
              "</table>\n",
              "<p>611 rows × 108 columns</p>\n",
              "</div>\n",
              "      <button class=\"colab-df-convert\" onclick=\"convertToInteractive('df-fc403d3d-9612-4b4e-bb96-1549fdd697cd')\"\n",
              "              title=\"Convert this dataframe to an interactive table.\"\n",
              "              style=\"display:none;\">\n",
              "        \n",
              "  <svg xmlns=\"http://www.w3.org/2000/svg\" height=\"24px\"viewBox=\"0 0 24 24\"\n",
              "       width=\"24px\">\n",
              "    <path d=\"M0 0h24v24H0V0z\" fill=\"none\"/>\n",
              "    <path d=\"M18.56 5.44l.94 2.06.94-2.06 2.06-.94-2.06-.94-.94-2.06-.94 2.06-2.06.94zm-11 1L8.5 8.5l.94-2.06 2.06-.94-2.06-.94L8.5 2.5l-.94 2.06-2.06.94zm10 10l.94 2.06.94-2.06 2.06-.94-2.06-.94-.94-2.06-.94 2.06-2.06.94z\"/><path d=\"M17.41 7.96l-1.37-1.37c-.4-.4-.92-.59-1.43-.59-.52 0-1.04.2-1.43.59L10.3 9.45l-7.72 7.72c-.78.78-.78 2.05 0 2.83L4 21.41c.39.39.9.59 1.41.59.51 0 1.02-.2 1.41-.59l7.78-7.78 2.81-2.81c.8-.78.8-2.07 0-2.86zM5.41 20L4 18.59l7.72-7.72 1.47 1.35L5.41 20z\"/>\n",
              "  </svg>\n",
              "      </button>\n",
              "      \n",
              "  <style>\n",
              "    .colab-df-container {\n",
              "      display:flex;\n",
              "      flex-wrap:wrap;\n",
              "      gap: 12px;\n",
              "    }\n",
              "\n",
              "    .colab-df-convert {\n",
              "      background-color: #E8F0FE;\n",
              "      border: none;\n",
              "      border-radius: 50%;\n",
              "      cursor: pointer;\n",
              "      display: none;\n",
              "      fill: #1967D2;\n",
              "      height: 32px;\n",
              "      padding: 0 0 0 0;\n",
              "      width: 32px;\n",
              "    }\n",
              "\n",
              "    .colab-df-convert:hover {\n",
              "      background-color: #E2EBFA;\n",
              "      box-shadow: 0px 1px 2px rgba(60, 64, 67, 0.3), 0px 1px 3px 1px rgba(60, 64, 67, 0.15);\n",
              "      fill: #174EA6;\n",
              "    }\n",
              "\n",
              "    [theme=dark] .colab-df-convert {\n",
              "      background-color: #3B4455;\n",
              "      fill: #D2E3FC;\n",
              "    }\n",
              "\n",
              "    [theme=dark] .colab-df-convert:hover {\n",
              "      background-color: #434B5C;\n",
              "      box-shadow: 0px 1px 3px 1px rgba(0, 0, 0, 0.15);\n",
              "      filter: drop-shadow(0px 1px 2px rgba(0, 0, 0, 0.3));\n",
              "      fill: #FFFFFF;\n",
              "    }\n",
              "  </style>\n",
              "\n",
              "      <script>\n",
              "        const buttonEl =\n",
              "          document.querySelector('#df-fc403d3d-9612-4b4e-bb96-1549fdd697cd button.colab-df-convert');\n",
              "        buttonEl.style.display =\n",
              "          google.colab.kernel.accessAllowed ? 'block' : 'none';\n",
              "\n",
              "        async function convertToInteractive(key) {\n",
              "          const element = document.querySelector('#df-fc403d3d-9612-4b4e-bb96-1549fdd697cd');\n",
              "          const dataTable =\n",
              "            await google.colab.kernel.invokeFunction('convertToInteractive',\n",
              "                                                     [key], {});\n",
              "          if (!dataTable) return;\n",
              "\n",
              "          const docLinkHtml = 'Like what you see? Visit the ' +\n",
              "            '<a target=\"_blank\" href=https://colab.research.google.com/notebooks/data_table.ipynb>data table notebook</a>'\n",
              "            + ' to learn more about interactive tables.';\n",
              "          element.innerHTML = '';\n",
              "          dataTable['output_type'] = 'display_data';\n",
              "          await google.colab.output.renderOutput(dataTable, element);\n",
              "          const docLink = document.createElement('div');\n",
              "          docLink.innerHTML = docLinkHtml;\n",
              "          element.appendChild(docLink);\n",
              "        }\n",
              "      </script>\n",
              "    </div>\n",
              "  </div>\n",
              "  "
            ]
          },
          "metadata": {},
          "execution_count": 78
        }
      ]
    },
    {
      "cell_type": "code",
      "source": [
        "X_selected_cm"
      ],
      "metadata": {
        "colab": {
          "base_uri": "https://localhost:8080/",
          "height": 488
        },
        "id": "v2jRSdL-d8B2",
        "outputId": "638531f4-14c1-4924-f863-a471be549d06"
      },
      "execution_count": null,
      "outputs": [
        {
          "output_type": "execute_result",
          "data": {
            "text/plain": [
              "        WRDFAMc  WRDFRQc     WRDNOUN  DESWLlt  WRDHYPnv  DESWLltd  LDTTRa  \\\n",
              "0    583.860000    2.110  400.000000    4.630     2.810     2.160   0.740   \n",
              "1    583.000000    2.040  406.250000    5.560     2.590     3.010   0.790   \n",
              "2    568.940000    1.970  513.510000    5.700     3.280     3.030   0.700   \n",
              "3    563.440000    1.760  411.760000    6.210     2.940     2.900   0.790   \n",
              "4    556.500000    2.000  500.000000    6.070     3.590     3.200   0.700   \n",
              "..          ...      ...         ...      ...       ...       ...     ...   \n",
              "606  588.125000    2.223  400.000000    4.867     2.758     2.416   0.867   \n",
              "607  580.221985    2.360  215.686996    4.137     1.726     2.333   0.769   \n",
              "608  577.267029    2.221  341.463013    4.293     2.714     2.358   0.738   \n",
              "609  575.500000    1.530  666.666016    6.000     6.778     3.000   1.000   \n",
              "610  593.778015    2.571  222.223007    4.444     1.385     1.947   0.778   \n",
              "\n",
              "        WRDADV  DESSL        DRVP  DESSLd  SYNLE  SYNSTRUTt  DESWC    SMCAUSv  \\\n",
              "0     0.000000   35.0  171.430000   0.000   17.0      0.000   35.0  28.570000   \n",
              "1     0.000000   33.0   93.750000   0.000   10.0      0.000   32.0  31.250000   \n",
              "2     0.000000   37.0   81.080000   0.000   12.0      0.000   37.0  27.030000   \n",
              "3    29.410000   34.0  147.060000   0.000   10.0      0.000   34.0  29.410000   \n",
              "4    23.810000   43.0  119.050000   0.000   12.0      0.000   42.0  23.810000   \n",
              "..         ...    ...         ...     ...    ...        ...    ...        ...   \n",
              "606   0.000000   15.0  133.332993   0.000    5.0      0.000   15.0  66.667000   \n",
              "607  98.039001   26.0  176.470993   7.071    1.0      0.028   51.0  19.608000   \n",
              "608  24.389999   21.0  243.901993   7.071    6.0      0.067   41.0  24.389999   \n",
              "609   0.000000    3.0    0.000000   0.000    0.0      0.000    3.0   0.000000   \n",
              "610  55.556000   18.0  111.111000   0.000    6.0      0.000   18.0   0.000000   \n",
              "\n",
              "       CNCLogic       PCDCp  \n",
              "0      0.000000    1.830000  \n",
              "1     62.500000   73.240000  \n",
              "2    162.160000  100.000000  \n",
              "3     29.410000   24.830000  \n",
              "4     71.430000   79.670000  \n",
              "..          ...         ...  \n",
              "606   66.667000   46.020000  \n",
              "607   58.824001   73.239998  \n",
              "608   73.170998   94.059998  \n",
              "609    0.000000    0.080000  \n",
              "610   55.556000   99.720001  \n",
              "\n",
              "[611 rows x 17 columns]"
            ],
            "text/html": [
              "\n",
              "  <div id=\"df-e2842a03-ae58-46a2-8fc6-50c46af88101\">\n",
              "    <div class=\"colab-df-container\">\n",
              "      <div>\n",
              "<style scoped>\n",
              "    .dataframe tbody tr th:only-of-type {\n",
              "        vertical-align: middle;\n",
              "    }\n",
              "\n",
              "    .dataframe tbody tr th {\n",
              "        vertical-align: top;\n",
              "    }\n",
              "\n",
              "    .dataframe thead th {\n",
              "        text-align: right;\n",
              "    }\n",
              "</style>\n",
              "<table border=\"1\" class=\"dataframe\">\n",
              "  <thead>\n",
              "    <tr style=\"text-align: right;\">\n",
              "      <th></th>\n",
              "      <th>WRDFAMc</th>\n",
              "      <th>WRDFRQc</th>\n",
              "      <th>WRDNOUN</th>\n",
              "      <th>DESWLlt</th>\n",
              "      <th>WRDHYPnv</th>\n",
              "      <th>DESWLltd</th>\n",
              "      <th>LDTTRa</th>\n",
              "      <th>WRDADV</th>\n",
              "      <th>DESSL</th>\n",
              "      <th>DRVP</th>\n",
              "      <th>DESSLd</th>\n",
              "      <th>SYNLE</th>\n",
              "      <th>SYNSTRUTt</th>\n",
              "      <th>DESWC</th>\n",
              "      <th>SMCAUSv</th>\n",
              "      <th>CNCLogic</th>\n",
              "      <th>PCDCp</th>\n",
              "    </tr>\n",
              "  </thead>\n",
              "  <tbody>\n",
              "    <tr>\n",
              "      <th>0</th>\n",
              "      <td>583.860000</td>\n",
              "      <td>2.110</td>\n",
              "      <td>400.000000</td>\n",
              "      <td>4.630</td>\n",
              "      <td>2.810</td>\n",
              "      <td>2.160</td>\n",
              "      <td>0.740</td>\n",
              "      <td>0.000000</td>\n",
              "      <td>35.0</td>\n",
              "      <td>171.430000</td>\n",
              "      <td>0.000</td>\n",
              "      <td>17.0</td>\n",
              "      <td>0.000</td>\n",
              "      <td>35.0</td>\n",
              "      <td>28.570000</td>\n",
              "      <td>0.000000</td>\n",
              "      <td>1.830000</td>\n",
              "    </tr>\n",
              "    <tr>\n",
              "      <th>1</th>\n",
              "      <td>583.000000</td>\n",
              "      <td>2.040</td>\n",
              "      <td>406.250000</td>\n",
              "      <td>5.560</td>\n",
              "      <td>2.590</td>\n",
              "      <td>3.010</td>\n",
              "      <td>0.790</td>\n",
              "      <td>0.000000</td>\n",
              "      <td>33.0</td>\n",
              "      <td>93.750000</td>\n",
              "      <td>0.000</td>\n",
              "      <td>10.0</td>\n",
              "      <td>0.000</td>\n",
              "      <td>32.0</td>\n",
              "      <td>31.250000</td>\n",
              "      <td>62.500000</td>\n",
              "      <td>73.240000</td>\n",
              "    </tr>\n",
              "    <tr>\n",
              "      <th>2</th>\n",
              "      <td>568.940000</td>\n",
              "      <td>1.970</td>\n",
              "      <td>513.510000</td>\n",
              "      <td>5.700</td>\n",
              "      <td>3.280</td>\n",
              "      <td>3.030</td>\n",
              "      <td>0.700</td>\n",
              "      <td>0.000000</td>\n",
              "      <td>37.0</td>\n",
              "      <td>81.080000</td>\n",
              "      <td>0.000</td>\n",
              "      <td>12.0</td>\n",
              "      <td>0.000</td>\n",
              "      <td>37.0</td>\n",
              "      <td>27.030000</td>\n",
              "      <td>162.160000</td>\n",
              "      <td>100.000000</td>\n",
              "    </tr>\n",
              "    <tr>\n",
              "      <th>3</th>\n",
              "      <td>563.440000</td>\n",
              "      <td>1.760</td>\n",
              "      <td>411.760000</td>\n",
              "      <td>6.210</td>\n",
              "      <td>2.940</td>\n",
              "      <td>2.900</td>\n",
              "      <td>0.790</td>\n",
              "      <td>29.410000</td>\n",
              "      <td>34.0</td>\n",
              "      <td>147.060000</td>\n",
              "      <td>0.000</td>\n",
              "      <td>10.0</td>\n",
              "      <td>0.000</td>\n",
              "      <td>34.0</td>\n",
              "      <td>29.410000</td>\n",
              "      <td>29.410000</td>\n",
              "      <td>24.830000</td>\n",
              "    </tr>\n",
              "    <tr>\n",
              "      <th>4</th>\n",
              "      <td>556.500000</td>\n",
              "      <td>2.000</td>\n",
              "      <td>500.000000</td>\n",
              "      <td>6.070</td>\n",
              "      <td>3.590</td>\n",
              "      <td>3.200</td>\n",
              "      <td>0.700</td>\n",
              "      <td>23.810000</td>\n",
              "      <td>43.0</td>\n",
              "      <td>119.050000</td>\n",
              "      <td>0.000</td>\n",
              "      <td>12.0</td>\n",
              "      <td>0.000</td>\n",
              "      <td>42.0</td>\n",
              "      <td>23.810000</td>\n",
              "      <td>71.430000</td>\n",
              "      <td>79.670000</td>\n",
              "    </tr>\n",
              "    <tr>\n",
              "      <th>...</th>\n",
              "      <td>...</td>\n",
              "      <td>...</td>\n",
              "      <td>...</td>\n",
              "      <td>...</td>\n",
              "      <td>...</td>\n",
              "      <td>...</td>\n",
              "      <td>...</td>\n",
              "      <td>...</td>\n",
              "      <td>...</td>\n",
              "      <td>...</td>\n",
              "      <td>...</td>\n",
              "      <td>...</td>\n",
              "      <td>...</td>\n",
              "      <td>...</td>\n",
              "      <td>...</td>\n",
              "      <td>...</td>\n",
              "      <td>...</td>\n",
              "    </tr>\n",
              "    <tr>\n",
              "      <th>606</th>\n",
              "      <td>588.125000</td>\n",
              "      <td>2.223</td>\n",
              "      <td>400.000000</td>\n",
              "      <td>4.867</td>\n",
              "      <td>2.758</td>\n",
              "      <td>2.416</td>\n",
              "      <td>0.867</td>\n",
              "      <td>0.000000</td>\n",
              "      <td>15.0</td>\n",
              "      <td>133.332993</td>\n",
              "      <td>0.000</td>\n",
              "      <td>5.0</td>\n",
              "      <td>0.000</td>\n",
              "      <td>15.0</td>\n",
              "      <td>66.667000</td>\n",
              "      <td>66.667000</td>\n",
              "      <td>46.020000</td>\n",
              "    </tr>\n",
              "    <tr>\n",
              "      <th>607</th>\n",
              "      <td>580.221985</td>\n",
              "      <td>2.360</td>\n",
              "      <td>215.686996</td>\n",
              "      <td>4.137</td>\n",
              "      <td>1.726</td>\n",
              "      <td>2.333</td>\n",
              "      <td>0.769</td>\n",
              "      <td>98.039001</td>\n",
              "      <td>26.0</td>\n",
              "      <td>176.470993</td>\n",
              "      <td>7.071</td>\n",
              "      <td>1.0</td>\n",
              "      <td>0.028</td>\n",
              "      <td>51.0</td>\n",
              "      <td>19.608000</td>\n",
              "      <td>58.824001</td>\n",
              "      <td>73.239998</td>\n",
              "    </tr>\n",
              "    <tr>\n",
              "      <th>608</th>\n",
              "      <td>577.267029</td>\n",
              "      <td>2.221</td>\n",
              "      <td>341.463013</td>\n",
              "      <td>4.293</td>\n",
              "      <td>2.714</td>\n",
              "      <td>2.358</td>\n",
              "      <td>0.738</td>\n",
              "      <td>24.389999</td>\n",
              "      <td>21.0</td>\n",
              "      <td>243.901993</td>\n",
              "      <td>7.071</td>\n",
              "      <td>6.0</td>\n",
              "      <td>0.067</td>\n",
              "      <td>41.0</td>\n",
              "      <td>24.389999</td>\n",
              "      <td>73.170998</td>\n",
              "      <td>94.059998</td>\n",
              "    </tr>\n",
              "    <tr>\n",
              "      <th>609</th>\n",
              "      <td>575.500000</td>\n",
              "      <td>1.530</td>\n",
              "      <td>666.666016</td>\n",
              "      <td>6.000</td>\n",
              "      <td>6.778</td>\n",
              "      <td>3.000</td>\n",
              "      <td>1.000</td>\n",
              "      <td>0.000000</td>\n",
              "      <td>3.0</td>\n",
              "      <td>0.000000</td>\n",
              "      <td>0.000</td>\n",
              "      <td>0.0</td>\n",
              "      <td>0.000</td>\n",
              "      <td>3.0</td>\n",
              "      <td>0.000000</td>\n",
              "      <td>0.000000</td>\n",
              "      <td>0.080000</td>\n",
              "    </tr>\n",
              "    <tr>\n",
              "      <th>610</th>\n",
              "      <td>593.778015</td>\n",
              "      <td>2.571</td>\n",
              "      <td>222.223007</td>\n",
              "      <td>4.444</td>\n",
              "      <td>1.385</td>\n",
              "      <td>1.947</td>\n",
              "      <td>0.778</td>\n",
              "      <td>55.556000</td>\n",
              "      <td>18.0</td>\n",
              "      <td>111.111000</td>\n",
              "      <td>0.000</td>\n",
              "      <td>6.0</td>\n",
              "      <td>0.000</td>\n",
              "      <td>18.0</td>\n",
              "      <td>0.000000</td>\n",
              "      <td>55.556000</td>\n",
              "      <td>99.720001</td>\n",
              "    </tr>\n",
              "  </tbody>\n",
              "</table>\n",
              "<p>611 rows × 17 columns</p>\n",
              "</div>\n",
              "      <button class=\"colab-df-convert\" onclick=\"convertToInteractive('df-e2842a03-ae58-46a2-8fc6-50c46af88101')\"\n",
              "              title=\"Convert this dataframe to an interactive table.\"\n",
              "              style=\"display:none;\">\n",
              "        \n",
              "  <svg xmlns=\"http://www.w3.org/2000/svg\" height=\"24px\"viewBox=\"0 0 24 24\"\n",
              "       width=\"24px\">\n",
              "    <path d=\"M0 0h24v24H0V0z\" fill=\"none\"/>\n",
              "    <path d=\"M18.56 5.44l.94 2.06.94-2.06 2.06-.94-2.06-.94-.94-2.06-.94 2.06-2.06.94zm-11 1L8.5 8.5l.94-2.06 2.06-.94-2.06-.94L8.5 2.5l-.94 2.06-2.06.94zm10 10l.94 2.06.94-2.06 2.06-.94-2.06-.94-.94-2.06-.94 2.06-2.06.94z\"/><path d=\"M17.41 7.96l-1.37-1.37c-.4-.4-.92-.59-1.43-.59-.52 0-1.04.2-1.43.59L10.3 9.45l-7.72 7.72c-.78.78-.78 2.05 0 2.83L4 21.41c.39.39.9.59 1.41.59.51 0 1.02-.2 1.41-.59l7.78-7.78 2.81-2.81c.8-.78.8-2.07 0-2.86zM5.41 20L4 18.59l7.72-7.72 1.47 1.35L5.41 20z\"/>\n",
              "  </svg>\n",
              "      </button>\n",
              "      \n",
              "  <style>\n",
              "    .colab-df-container {\n",
              "      display:flex;\n",
              "      flex-wrap:wrap;\n",
              "      gap: 12px;\n",
              "    }\n",
              "\n",
              "    .colab-df-convert {\n",
              "      background-color: #E8F0FE;\n",
              "      border: none;\n",
              "      border-radius: 50%;\n",
              "      cursor: pointer;\n",
              "      display: none;\n",
              "      fill: #1967D2;\n",
              "      height: 32px;\n",
              "      padding: 0 0 0 0;\n",
              "      width: 32px;\n",
              "    }\n",
              "\n",
              "    .colab-df-convert:hover {\n",
              "      background-color: #E2EBFA;\n",
              "      box-shadow: 0px 1px 2px rgba(60, 64, 67, 0.3), 0px 1px 3px 1px rgba(60, 64, 67, 0.15);\n",
              "      fill: #174EA6;\n",
              "    }\n",
              "\n",
              "    [theme=dark] .colab-df-convert {\n",
              "      background-color: #3B4455;\n",
              "      fill: #D2E3FC;\n",
              "    }\n",
              "\n",
              "    [theme=dark] .colab-df-convert:hover {\n",
              "      background-color: #434B5C;\n",
              "      box-shadow: 0px 1px 3px 1px rgba(0, 0, 0, 0.15);\n",
              "      filter: drop-shadow(0px 1px 2px rgba(0, 0, 0, 0.3));\n",
              "      fill: #FFFFFF;\n",
              "    }\n",
              "  </style>\n",
              "\n",
              "      <script>\n",
              "        const buttonEl =\n",
              "          document.querySelector('#df-e2842a03-ae58-46a2-8fc6-50c46af88101 button.colab-df-convert');\n",
              "        buttonEl.style.display =\n",
              "          google.colab.kernel.accessAllowed ? 'block' : 'none';\n",
              "\n",
              "        async function convertToInteractive(key) {\n",
              "          const element = document.querySelector('#df-e2842a03-ae58-46a2-8fc6-50c46af88101');\n",
              "          const dataTable =\n",
              "            await google.colab.kernel.invokeFunction('convertToInteractive',\n",
              "                                                     [key], {});\n",
              "          if (!dataTable) return;\n",
              "\n",
              "          const docLinkHtml = 'Like what you see? Visit the ' +\n",
              "            '<a target=\"_blank\" href=https://colab.research.google.com/notebooks/data_table.ipynb>data table notebook</a>'\n",
              "            + ' to learn more about interactive tables.';\n",
              "          element.innerHTML = '';\n",
              "          dataTable['output_type'] = 'display_data';\n",
              "          await google.colab.output.renderOutput(dataTable, element);\n",
              "          const docLink = document.createElement('div');\n",
              "          docLink.innerHTML = docLinkHtml;\n",
              "          element.appendChild(docLink);\n",
              "        }\n",
              "      </script>\n",
              "    </div>\n",
              "  </div>\n",
              "  "
            ]
          },
          "metadata": {},
          "execution_count": 105
        }
      ]
    },
    {
      "cell_type": "code",
      "source": [
        "from sklearn import model_selection\n",
        "X_train_s_cm, X_test_s_cm, y_train_s_cm, y_test_s_cm = model_selection.train_test_split(X_selected_cm, y_selected_cm, test_size=0.25, stratify = y_selected_cm, random_state=1) #stratified sampling,\n",
        "print('training data has ' + str(X_train_s_cm.shape[0]) + ' observation with ' + str(X_train_s_cm.shape[1]) + ' features')\n",
        "print('test data has ' + str(X_test_s_cm.shape[0]) + ' observation with ' + str(X_test_s_cm.shape[1]) + ' features')"
      ],
      "metadata": {
        "colab": {
          "base_uri": "https://localhost:8080/"
        },
        "id": "WlKnywCjdS27",
        "outputId": "59282f4f-dab0-4b87-9fac-a24621b4a4c8"
      },
      "execution_count": null,
      "outputs": [
        {
          "output_type": "stream",
          "name": "stdout",
          "text": [
            "training data has 458 observation with 17 features\n",
            "test data has 153 observation with 17 features\n"
          ]
        }
      ]
    },
    {
      "cell_type": "code",
      "source": [
        "from sklearn.linear_model import LogisticRegression\n",
        "# Logistic Regression\n",
        "classifier_logistic_cm = LogisticRegression()"
      ],
      "metadata": {
        "id": "XZ0VpP2qeo9p"
      },
      "execution_count": null,
      "outputs": []
    },
    {
      "cell_type": "code",
      "source": [
        "# Train the model\n",
        "classifier_logistic_cm.fit(X_train_s_cm, y_train_s_cm)"
      ],
      "metadata": {
        "colab": {
          "base_uri": "https://localhost:8080/"
        },
        "id": "rBOK4qiDeySs",
        "outputId": "ebff0753-3346-4c8e-d76c-4a323d980ec1"
      },
      "execution_count": null,
      "outputs": [
        {
          "output_type": "stream",
          "name": "stderr",
          "text": [
            "/usr/local/lib/python3.8/dist-packages/sklearn/linear_model/_logistic.py:814: ConvergenceWarning: lbfgs failed to converge (status=1):\n",
            "STOP: TOTAL NO. of ITERATIONS REACHED LIMIT.\n",
            "\n",
            "Increase the number of iterations (max_iter) or scale the data as shown in:\n",
            "    https://scikit-learn.org/stable/modules/preprocessing.html\n",
            "Please also refer to the documentation for alternative solver options:\n",
            "    https://scikit-learn.org/stable/modules/linear_model.html#logistic-regression\n",
            "  n_iter_i = _check_optimize_result(\n"
          ]
        },
        {
          "output_type": "execute_result",
          "data": {
            "text/plain": [
              "LogisticRegression()"
            ]
          },
          "metadata": {},
          "execution_count": 109
        }
      ]
    },
    {
      "cell_type": "code",
      "source": [
        "classifier_logistic_cm.predict_proba(X_test_s_cm)[:,0] #level 1 prob"
      ],
      "metadata": {
        "colab": {
          "base_uri": "https://localhost:8080/"
        },
        "id": "O_AbZv2zfHuP",
        "outputId": "9d0b08b8-07b3-4c22-e1d4-7eccc85b997a"
      },
      "execution_count": null,
      "outputs": [
        {
          "output_type": "execute_result",
          "data": {
            "text/plain": [
              "array([8.80069485e-01, 7.27145652e-05, 2.44826212e-03, 6.49346667e-05,\n",
              "       2.27916411e-02, 7.57656240e-01, 5.63528918e-03, 8.97157602e-01,\n",
              "       6.92915966e-02, 9.12837107e-01, 5.59437138e-04, 6.40276939e-06,\n",
              "       1.91261590e-02, 9.37997397e-04, 2.44495992e-06, 1.28657074e-04,\n",
              "       6.26128111e-04, 1.79815257e-01, 2.34744732e-03, 8.63238427e-02,\n",
              "       8.94644173e-01, 2.77989580e-03, 1.77071217e-03, 5.24323521e-04,\n",
              "       9.66828003e-01, 2.67897389e-04, 1.93413162e-02, 5.10501302e-05,\n",
              "       2.97091833e-03, 7.10524534e-03, 6.76219309e-04, 1.22790440e-04,\n",
              "       5.84503532e-03, 5.91954832e-04, 9.94090334e-01, 1.20721452e-01,\n",
              "       1.30854456e-05, 6.40902234e-04, 7.77832712e-04, 9.01250385e-06,\n",
              "       2.25640277e-03, 4.28614111e-05, 2.66131653e-03, 2.32302174e-01,\n",
              "       7.57400555e-03, 3.89795731e-06, 6.33814096e-02, 5.52160569e-03,\n",
              "       1.33707102e-02, 6.11904977e-02, 9.26000843e-05, 8.62411314e-05,\n",
              "       3.22013432e-05, 2.03942578e-02, 9.78626162e-01, 7.59046086e-01,\n",
              "       4.33824021e-04, 2.89519368e-03, 1.20120743e-01, 5.37686620e-02,\n",
              "       8.59098985e-01, 1.09092515e-01, 3.26870293e-08, 7.01468428e-01,\n",
              "       3.90067682e-03, 6.19963370e-01, 2.69864497e-04, 1.22796370e-06,\n",
              "       2.24216797e-03, 2.33364694e-05, 5.80177808e-04, 2.49236344e-01,\n",
              "       1.54683275e-05, 2.21832303e-02, 6.32889058e-04, 1.38459487e-03,\n",
              "       9.33944768e-04, 1.15091427e-03, 5.19972708e-04, 7.14403236e-01,\n",
              "       9.37908690e-01, 2.92094224e-03, 7.66510707e-03, 6.45492396e-05,\n",
              "       3.92200914e-04, 4.37498678e-05, 7.17570685e-01, 2.09036033e-03,\n",
              "       3.32522781e-01, 8.76555606e-01, 1.29171221e-06, 6.83511255e-03,\n",
              "       1.59122141e-03, 1.18802632e-02, 9.99999286e-01, 1.10261873e-02,\n",
              "       3.43033722e-03, 4.28794666e-03, 5.76713255e-03, 6.10450986e-02,\n",
              "       6.62910608e-01, 4.92181981e-02, 3.39959428e-05, 3.11411781e-02,\n",
              "       1.27442617e-02, 8.29941027e-01, 2.43717785e-04, 6.62160303e-01,\n",
              "       8.18314649e-02, 8.14033545e-02, 1.54011806e-04, 1.00079864e-02,\n",
              "       4.87186959e-03, 7.07462507e-03, 3.97462242e-05, 1.08329892e-01,\n",
              "       8.54908101e-02, 6.57766864e-03, 2.72520206e-03, 1.00597000e-02,\n",
              "       8.76688499e-03, 2.43815770e-03, 1.66715064e-03, 7.84982497e-01,\n",
              "       4.80167761e-04, 1.18172649e-02, 6.62009253e-01, 4.65000306e-04,\n",
              "       1.35217155e-03, 1.58854594e-04, 1.73546510e-02, 9.89707915e-01,\n",
              "       1.13748775e-02, 9.28644661e-04, 1.71667920e-04, 2.74751081e-02,\n",
              "       3.42007587e-02, 5.26752745e-02, 1.23996797e-05, 6.26914722e-06,\n",
              "       1.23758948e-03, 2.66067122e-02, 1.92620196e-04, 4.65966231e-03,\n",
              "       1.57171645e-04, 3.99562189e-02, 8.55421713e-06, 6.24306724e-03,\n",
              "       1.65578495e-04, 3.15869108e-01, 4.07451327e-01, 7.49132822e-05,\n",
              "       1.49580147e-02])"
            ]
          },
          "metadata": {},
          "execution_count": 110
        }
      ]
    },
    {
      "cell_type": "code",
      "source": [
        "classifier_logistic_cm.score(X_test_s_cm, y_test_s_cm)"
      ],
      "metadata": {
        "colab": {
          "base_uri": "https://localhost:8080/"
        },
        "id": "rpe53rgOgcpg",
        "outputId": "b4f91f0a-2487-49f8-ae04-b4a5b258a673"
      },
      "execution_count": null,
      "outputs": [
        {
          "output_type": "execute_result",
          "data": {
            "text/plain": [
              "0.9411764705882353"
            ]
          },
          "metadata": {},
          "execution_count": 111
        }
      ]
    },
    {
      "cell_type": "code",
      "source": [
        "X_axis = classifier_logistic_cm.predict_proba(X_selected_cm)[:,0]"
      ],
      "metadata": {
        "id": "qMsRDNZLh8av"
      },
      "execution_count": null,
      "outputs": []
    },
    {
      "cell_type": "code",
      "source": [
        "threshold_cm = Find_Optimal_Cutoff(y_test_s_cm, classifier_logistic_cm.predict_proba(X_test_s_cm)[:,0])\n",
        "threshold_cm"
      ],
      "metadata": {
        "colab": {
          "base_uri": "https://localhost:8080/"
        },
        "id": "rJA9p_RNKPpi",
        "outputId": "ef8afcd7-78be-4cad-f039-007caa66e5f3"
      },
      "execution_count": null,
      "outputs": [
        {
          "output_type": "execute_result",
          "data": {
            "text/plain": [
              "[0.8326110110038114]"
            ]
          },
          "metadata": {},
          "execution_count": 113
        }
      ]
    },
    {
      "cell_type": "code",
      "source": [
        "b = to_labels(classifier_logistic_cm.predict_proba(X_test_s_cm)[:,1],0.832)\n",
        "accuracy_score(y_test_s_cm, b)"
      ],
      "metadata": {
        "colab": {
          "base_uri": "https://localhost:8080/"
        },
        "id": "K3-jQhYiKruy",
        "outputId": "fe59e92d-a658-42cb-9ce3-f5f0008ffa28"
      },
      "execution_count": null,
      "outputs": [
        {
          "output_type": "execute_result",
          "data": {
            "text/plain": [
              "0.9411764705882353"
            ]
          },
          "metadata": {},
          "execution_count": 114
        }
      ]
    },
    {
      "cell_type": "code",
      "source": [
        "print(precision_score(y_test_s_cm, b))\n",
        "print(recall_score(y_test_s_cm, b))\n",
        "print(f1_score(y_test_s_cm, b))"
      ],
      "metadata": {
        "colab": {
          "base_uri": "https://localhost:8080/"
        },
        "id": "jV4CyuNELOhJ",
        "outputId": "fbd02cb7-72f7-4647-d0da-dc42d3f9e57b"
      },
      "execution_count": null,
      "outputs": [
        {
          "output_type": "stream",
          "name": "stdout",
          "text": [
            "1.0\n",
            "0.9323308270676691\n",
            "0.9649805447470817\n"
          ]
        }
      ]
    },
    {
      "cell_type": "code",
      "source": [
        "roc_auc_score(y_test_s_cm,classifier_logistic_cm.predict_proba(X_test_s_cm)[:,1])"
      ],
      "metadata": {
        "colab": {
          "base_uri": "https://localhost:8080/"
        },
        "id": "Yms-cTfwRnV-",
        "outputId": "c2e8f1e2-8fe7-4e6f-f2c9-68ad6c38f55c"
      },
      "execution_count": null,
      "outputs": [
        {
          "output_type": "execute_result",
          "data": {
            "text/plain": [
              "0.9714285714285713"
            ]
          },
          "metadata": {},
          "execution_count": 116
        }
      ]
    },
    {
      "cell_type": "markdown",
      "source": [
        "# Part 6: Plot CM and TFIDF as axis to differentiate two types of responses"
      ],
      "metadata": {
        "id": "y2KxfyjLgiWe"
      }
    },
    {
      "cell_type": "code",
      "source": [
        "plot_data = pd.DataFrame({'Coh-Metrix':X_axis, 'TF-IDF':y_axis, 'Type':df[\"Type_num\"]})"
      ],
      "metadata": {
        "id": "pWOxbNowjSyw"
      },
      "execution_count": null,
      "outputs": []
    },
    {
      "cell_type": "code",
      "source": [
        "plot_data"
      ],
      "metadata": {
        "colab": {
          "base_uri": "https://localhost:8080/",
          "height": 424
        },
        "id": "6E4mlLgSj9BL",
        "outputId": "615c8599-01b8-40b8-d796-e7e860f9ebf7"
      },
      "execution_count": null,
      "outputs": [
        {
          "output_type": "execute_result",
          "data": {
            "text/plain": [
              "     Coh-Metrix    TF-IDF  Type\n",
              "0      0.392840  0.041504     0\n",
              "1      0.332523  0.038902     0\n",
              "2      0.530420  0.097838     0\n",
              "3      0.665076  0.284574     0\n",
              "4      0.989708  0.226095     0\n",
              "..          ...       ...   ...\n",
              "606    0.002980  0.377267     1\n",
              "607    0.002724  0.091429     1\n",
              "608    0.019341  0.079795     1\n",
              "609    0.946095  0.098688     1\n",
              "610    0.000159  0.006217     1\n",
              "\n",
              "[611 rows x 3 columns]"
            ],
            "text/html": [
              "\n",
              "  <div id=\"df-6c63c8df-f66a-4a78-b3fe-d264d5bfeaef\">\n",
              "    <div class=\"colab-df-container\">\n",
              "      <div>\n",
              "<style scoped>\n",
              "    .dataframe tbody tr th:only-of-type {\n",
              "        vertical-align: middle;\n",
              "    }\n",
              "\n",
              "    .dataframe tbody tr th {\n",
              "        vertical-align: top;\n",
              "    }\n",
              "\n",
              "    .dataframe thead th {\n",
              "        text-align: right;\n",
              "    }\n",
              "</style>\n",
              "<table border=\"1\" class=\"dataframe\">\n",
              "  <thead>\n",
              "    <tr style=\"text-align: right;\">\n",
              "      <th></th>\n",
              "      <th>Coh-Metrix</th>\n",
              "      <th>TF-IDF</th>\n",
              "      <th>Type</th>\n",
              "    </tr>\n",
              "  </thead>\n",
              "  <tbody>\n",
              "    <tr>\n",
              "      <th>0</th>\n",
              "      <td>0.392840</td>\n",
              "      <td>0.041504</td>\n",
              "      <td>0</td>\n",
              "    </tr>\n",
              "    <tr>\n",
              "      <th>1</th>\n",
              "      <td>0.332523</td>\n",
              "      <td>0.038902</td>\n",
              "      <td>0</td>\n",
              "    </tr>\n",
              "    <tr>\n",
              "      <th>2</th>\n",
              "      <td>0.530420</td>\n",
              "      <td>0.097838</td>\n",
              "      <td>0</td>\n",
              "    </tr>\n",
              "    <tr>\n",
              "      <th>3</th>\n",
              "      <td>0.665076</td>\n",
              "      <td>0.284574</td>\n",
              "      <td>0</td>\n",
              "    </tr>\n",
              "    <tr>\n",
              "      <th>4</th>\n",
              "      <td>0.989708</td>\n",
              "      <td>0.226095</td>\n",
              "      <td>0</td>\n",
              "    </tr>\n",
              "    <tr>\n",
              "      <th>...</th>\n",
              "      <td>...</td>\n",
              "      <td>...</td>\n",
              "      <td>...</td>\n",
              "    </tr>\n",
              "    <tr>\n",
              "      <th>606</th>\n",
              "      <td>0.002980</td>\n",
              "      <td>0.377267</td>\n",
              "      <td>1</td>\n",
              "    </tr>\n",
              "    <tr>\n",
              "      <th>607</th>\n",
              "      <td>0.002724</td>\n",
              "      <td>0.091429</td>\n",
              "      <td>1</td>\n",
              "    </tr>\n",
              "    <tr>\n",
              "      <th>608</th>\n",
              "      <td>0.019341</td>\n",
              "      <td>0.079795</td>\n",
              "      <td>1</td>\n",
              "    </tr>\n",
              "    <tr>\n",
              "      <th>609</th>\n",
              "      <td>0.946095</td>\n",
              "      <td>0.098688</td>\n",
              "      <td>1</td>\n",
              "    </tr>\n",
              "    <tr>\n",
              "      <th>610</th>\n",
              "      <td>0.000159</td>\n",
              "      <td>0.006217</td>\n",
              "      <td>1</td>\n",
              "    </tr>\n",
              "  </tbody>\n",
              "</table>\n",
              "<p>611 rows × 3 columns</p>\n",
              "</div>\n",
              "      <button class=\"colab-df-convert\" onclick=\"convertToInteractive('df-6c63c8df-f66a-4a78-b3fe-d264d5bfeaef')\"\n",
              "              title=\"Convert this dataframe to an interactive table.\"\n",
              "              style=\"display:none;\">\n",
              "        \n",
              "  <svg xmlns=\"http://www.w3.org/2000/svg\" height=\"24px\"viewBox=\"0 0 24 24\"\n",
              "       width=\"24px\">\n",
              "    <path d=\"M0 0h24v24H0V0z\" fill=\"none\"/>\n",
              "    <path d=\"M18.56 5.44l.94 2.06.94-2.06 2.06-.94-2.06-.94-.94-2.06-.94 2.06-2.06.94zm-11 1L8.5 8.5l.94-2.06 2.06-.94-2.06-.94L8.5 2.5l-.94 2.06-2.06.94zm10 10l.94 2.06.94-2.06 2.06-.94-2.06-.94-.94-2.06-.94 2.06-2.06.94z\"/><path d=\"M17.41 7.96l-1.37-1.37c-.4-.4-.92-.59-1.43-.59-.52 0-1.04.2-1.43.59L10.3 9.45l-7.72 7.72c-.78.78-.78 2.05 0 2.83L4 21.41c.39.39.9.59 1.41.59.51 0 1.02-.2 1.41-.59l7.78-7.78 2.81-2.81c.8-.78.8-2.07 0-2.86zM5.41 20L4 18.59l7.72-7.72 1.47 1.35L5.41 20z\"/>\n",
              "  </svg>\n",
              "      </button>\n",
              "      \n",
              "  <style>\n",
              "    .colab-df-container {\n",
              "      display:flex;\n",
              "      flex-wrap:wrap;\n",
              "      gap: 12px;\n",
              "    }\n",
              "\n",
              "    .colab-df-convert {\n",
              "      background-color: #E8F0FE;\n",
              "      border: none;\n",
              "      border-radius: 50%;\n",
              "      cursor: pointer;\n",
              "      display: none;\n",
              "      fill: #1967D2;\n",
              "      height: 32px;\n",
              "      padding: 0 0 0 0;\n",
              "      width: 32px;\n",
              "    }\n",
              "\n",
              "    .colab-df-convert:hover {\n",
              "      background-color: #E2EBFA;\n",
              "      box-shadow: 0px 1px 2px rgba(60, 64, 67, 0.3), 0px 1px 3px 1px rgba(60, 64, 67, 0.15);\n",
              "      fill: #174EA6;\n",
              "    }\n",
              "\n",
              "    [theme=dark] .colab-df-convert {\n",
              "      background-color: #3B4455;\n",
              "      fill: #D2E3FC;\n",
              "    }\n",
              "\n",
              "    [theme=dark] .colab-df-convert:hover {\n",
              "      background-color: #434B5C;\n",
              "      box-shadow: 0px 1px 3px 1px rgba(0, 0, 0, 0.15);\n",
              "      filter: drop-shadow(0px 1px 2px rgba(0, 0, 0, 0.3));\n",
              "      fill: #FFFFFF;\n",
              "    }\n",
              "  </style>\n",
              "\n",
              "      <script>\n",
              "        const buttonEl =\n",
              "          document.querySelector('#df-6c63c8df-f66a-4a78-b3fe-d264d5bfeaef button.colab-df-convert');\n",
              "        buttonEl.style.display =\n",
              "          google.colab.kernel.accessAllowed ? 'block' : 'none';\n",
              "\n",
              "        async function convertToInteractive(key) {\n",
              "          const element = document.querySelector('#df-6c63c8df-f66a-4a78-b3fe-d264d5bfeaef');\n",
              "          const dataTable =\n",
              "            await google.colab.kernel.invokeFunction('convertToInteractive',\n",
              "                                                     [key], {});\n",
              "          if (!dataTable) return;\n",
              "\n",
              "          const docLinkHtml = 'Like what you see? Visit the ' +\n",
              "            '<a target=\"_blank\" href=https://colab.research.google.com/notebooks/data_table.ipynb>data table notebook</a>'\n",
              "            + ' to learn more about interactive tables.';\n",
              "          element.innerHTML = '';\n",
              "          dataTable['output_type'] = 'display_data';\n",
              "          await google.colab.output.renderOutput(dataTable, element);\n",
              "          const docLink = document.createElement('div');\n",
              "          docLink.innerHTML = docLinkHtml;\n",
              "          element.appendChild(docLink);\n",
              "        }\n",
              "      </script>\n",
              "    </div>\n",
              "  </div>\n",
              "  "
            ]
          },
          "metadata": {},
          "execution_count": 118
        }
      ]
    },
    {
      "cell_type": "code",
      "source": [
        "import seaborn as sns\n",
        "import matplotlib.pyplot as plt\n",
        "\n",
        "# Use the 'hue' argument to provide a factor variable\n",
        "sns.lmplot(x=\"Coh-Metrix\", y=\"TF-IDF\", data=plot_data, fit_reg=False, hue='Type', legend=False)\n",
        "\n",
        "# Move the legend to an empty part of the plot\n",
        "plt.legend(loc='lower right')\n",
        "\n",
        "plt.show()"
      ],
      "metadata": {
        "colab": {
          "base_uri": "https://localhost:8080/",
          "height": 369
        },
        "id": "Bbdw_eL4ghDu",
        "outputId": "42453184-25ae-4761-8764-6d803fa71419"
      },
      "execution_count": null,
      "outputs": [
        {
          "output_type": "display_data",
          "data": {
            "text/plain": [
              "<Figure size 360x360 with 1 Axes>"
            ],
            "image/png": "[encoded data removed]"
          },
          "metadata": {
            "needs_background": "light"
          }
        }
      ]
    },
    {
      "cell_type": "markdown",
      "source": [
        "# Part 7: Design and develop a machine-based algorithm to classify response types"
      ],
      "metadata": {
        "id": "VRRLH50YLqEk"
      }
    },
    {
      "cell_type": "code",
      "source": [
        "y_all = df[\"Type_num\"]"
      ],
      "metadata": {
        "id": "--vsXNLzLotY"
      },
      "execution_count": null,
      "outputs": []
    },
    {
      "cell_type": "code",
      "source": [
        "df1 = pd.DataFrame(tfidf_matrix.todense(), columns = tf_selected_words)\n",
        "print(df1)"
      ],
      "metadata": {
        "colab": {
          "base_uri": "https://localhost:8080/"
        },
        "id": "5aoWX_IBOJwl",
        "outputId": "26546fd9-f132-42bd-8f25-31643ba61ee6"
      },
      "execution_count": null,
      "outputs": [
        {
          "output_type": "stream",
          "name": "stdout",
          "text": [
            "     agricultur      area      bean   biomass     chang  communiti      corn  \\\n",
            "0      0.000000  0.225593  0.207403  0.000000  0.000000   0.000000  0.153542   \n",
            "1      0.000000  0.000000  0.000000  0.000000  0.000000   0.000000  0.216561   \n",
            "2      0.000000  0.000000  0.000000  0.000000  0.000000   0.000000  0.190940   \n",
            "3      0.350588  0.000000  0.000000  0.000000  0.000000   0.304715  0.179241   \n",
            "4      0.000000  0.000000  0.183307  0.000000  0.538434   0.000000  0.271408   \n",
            "..          ...       ...       ...       ...       ...        ...       ...   \n",
            "606    0.000000  0.000000  0.000000  0.000000  0.000000   0.000000  0.000000   \n",
            "607    0.000000  0.000000  0.332754  0.000000  0.000000   0.000000  0.246341   \n",
            "608    0.000000  0.000000  0.169965  0.174769  0.000000   0.000000  0.251654   \n",
            "609    0.000000  0.000000  0.000000  0.000000  0.000000   0.000000  0.000000   \n",
            "610    0.000000  0.000000  0.000000  0.000000  0.000000   0.000000  0.000000   \n",
            "\n",
            "         crop  decreas    energi  ...   product    requir    result     river  \\\n",
            "0    0.256552  0.00000  0.000000  ...  0.000000  0.259211  0.272729  0.000000   \n",
            "1    0.000000  0.00000  0.000000  ...  0.306341  0.000000  0.000000  0.400198   \n",
            "2    0.000000  0.00000  0.000000  ...  0.540197  0.000000  0.000000  0.000000   \n",
            "3    0.000000  0.00000  0.000000  ...  0.253549  0.000000  0.318376  0.331232   \n",
            "4    0.000000  0.00000  0.000000  ...  0.575889  0.000000  0.000000  0.000000   \n",
            "..        ...      ...       ...  ...       ...       ...       ...       ...   \n",
            "606  0.000000  0.00000  0.255516  ...  0.666193  0.000000  0.418263  0.000000   \n",
            "607  0.000000  0.00000  0.267307  ...  0.000000  0.000000  0.000000  0.000000   \n",
            "608  0.000000  0.47291  0.136536  ...  0.000000  0.000000  0.000000  0.000000   \n",
            "609  0.000000  0.00000  0.000000  ...  0.000000  0.000000  0.000000  0.000000   \n",
            "610  0.000000  0.00000  0.000000  ...  0.000000  0.000000  0.000000  0.000000   \n",
            "\n",
            "        sourc    switch  tradeoff      usag       use     water  \n",
            "0    0.273774  0.000000  0.000000  0.287315  0.000000  0.441451  \n",
            "1    0.000000  0.000000  0.000000  0.000000  0.241756  0.622636  \n",
            "2    0.000000  0.000000  0.000000  0.357296  0.426309  0.548974  \n",
            "3    0.000000  0.000000  0.000000  0.335404  0.000000  0.386503  \n",
            "4    0.241967  0.000000  0.000000  0.000000  0.000000  0.390164  \n",
            "..        ...       ...       ...       ...       ...       ...  \n",
            "606  0.000000  0.000000  0.000000  0.440633  0.000000  0.169254  \n",
            "607  0.000000  0.000000  0.413017  0.000000  0.000000  0.000000  \n",
            "608  0.000000  0.242756  0.000000  0.000000  0.140466  0.090442  \n",
            "609  0.000000  0.000000  0.000000  0.000000  0.000000  0.000000  \n",
            "610  0.000000  0.000000  0.000000  0.000000  0.000000  1.000000  \n",
            "\n",
            "[611 rows x 30 columns]\n"
          ]
        }
      ]
    },
    {
      "cell_type": "code",
      "source": [
        "X_all = pd.concat([X_selected_cm, df1], axis=1)\n",
        "print(X_all)"
      ],
      "metadata": {
        "colab": {
          "base_uri": "https://localhost:8080/"
        },
        "id": "nU6w1Ub3O-qi",
        "outputId": "ee8585f3-7df9-40b0-c590-c1d7a0928014"
      },
      "execution_count": null,
      "outputs": [
        {
          "output_type": "stream",
          "name": "stdout",
          "text": [
            "        WRDFAMc  WRDFRQc     WRDNOUN  DESWLlt  WRDHYPnv  DESWLltd  LDTTRa  \\\n",
            "0    583.860000    2.110  400.000000    4.630     2.810     2.160   0.740   \n",
            "1    583.000000    2.040  406.250000    5.560     2.590     3.010   0.790   \n",
            "2    568.940000    1.970  513.510000    5.700     3.280     3.030   0.700   \n",
            "3    563.440000    1.760  411.760000    6.210     2.940     2.900   0.790   \n",
            "4    556.500000    2.000  500.000000    6.070     3.590     3.200   0.700   \n",
            "..          ...      ...         ...      ...       ...       ...     ...   \n",
            "606  588.125000    2.223  400.000000    4.867     2.758     2.416   0.867   \n",
            "607  580.221985    2.360  215.686996    4.137     1.726     2.333   0.769   \n",
            "608  577.267029    2.221  341.463013    4.293     2.714     2.358   0.738   \n",
            "609  575.500000    1.530  666.666016    6.000     6.778     3.000   1.000   \n",
            "610  593.778015    2.571  222.223007    4.444     1.385     1.947   0.778   \n",
            "\n",
            "        WRDADV  DESSL        DRVP  ...   product    requir    result  \\\n",
            "0     0.000000   35.0  171.430000  ...  0.000000  0.259211  0.272729   \n",
            "1     0.000000   33.0   93.750000  ...  0.306341  0.000000  0.000000   \n",
            "2     0.000000   37.0   81.080000  ...  0.540197  0.000000  0.000000   \n",
            "3    29.410000   34.0  147.060000  ...  0.253549  0.000000  0.318376   \n",
            "4    23.810000   43.0  119.050000  ...  0.575889  0.000000  0.000000   \n",
            "..         ...    ...         ...  ...       ...       ...       ...   \n",
            "606   0.000000   15.0  133.332993  ...  0.666193  0.000000  0.418263   \n",
            "607  98.039001   26.0  176.470993  ...  0.000000  0.000000  0.000000   \n",
            "608  24.389999   21.0  243.901993  ...  0.000000  0.000000  0.000000   \n",
            "609   0.000000    3.0    0.000000  ...  0.000000  0.000000  0.000000   \n",
            "610  55.556000   18.0  111.111000  ...  0.000000  0.000000  0.000000   \n",
            "\n",
            "        river     sourc    switch  tradeoff      usag       use     water  \n",
            "0    0.000000  0.273774  0.000000  0.000000  0.287315  0.000000  0.441451  \n",
            "1    0.400198  0.000000  0.000000  0.000000  0.000000  0.241756  0.622636  \n",
            "2    0.000000  0.000000  0.000000  0.000000  0.357296  0.426309  0.548974  \n",
            "3    0.331232  0.000000  0.000000  0.000000  0.335404  0.000000  0.386503  \n",
            "4    0.000000  0.241967  0.000000  0.000000  0.000000  0.000000  0.390164  \n",
            "..        ...       ...       ...       ...       ...       ...       ...  \n",
            "606  0.000000  0.000000  0.000000  0.000000  0.440633  0.000000  0.169254  \n",
            "607  0.000000  0.000000  0.000000  0.413017  0.000000  0.000000  0.000000  \n",
            "608  0.000000  0.000000  0.242756  0.000000  0.000000  0.140466  0.090442  \n",
            "609  0.000000  0.000000  0.000000  0.000000  0.000000  0.000000  0.000000  \n",
            "610  0.000000  0.000000  0.000000  0.000000  0.000000  0.000000  1.000000  \n",
            "\n",
            "[611 rows x 47 columns]\n"
          ]
        }
      ]
    },
    {
      "cell_type": "code",
      "source": [
        "from sklearn import model_selection\n",
        "X_train_all, X_test_all, y_train_all, y_test_all = model_selection.train_test_split(X_all, y_all, test_size=0.25, stratify = y_all, random_state=1) #stratified sampling,\n",
        "print('training data has ' + str(X_train_all.shape[0]) + ' observation with ' + str(X_train_all.shape[1]) + ' features')\n",
        "print('test data has ' + str(X_test_all.shape[0]) + ' observation with ' + str(X_test_all.shape[1]) + ' features')"
      ],
      "metadata": {
        "colab": {
          "base_uri": "https://localhost:8080/"
        },
        "id": "3VWlV8DYPbPH",
        "outputId": "c5f7fcad-7b80-4eec-a726-952a8da60edb"
      },
      "execution_count": null,
      "outputs": [
        {
          "output_type": "stream",
          "name": "stdout",
          "text": [
            "training data has 458 observation with 47 features\n",
            "test data has 153 observation with 47 features\n"
          ]
        }
      ]
    },
    {
      "cell_type": "code",
      "source": [
        "classifier_logistic_all = LogisticRegression()\n",
        "classifier_logistic_all.fit(X_train_all, y_train_all)"
      ],
      "metadata": {
        "colab": {
          "base_uri": "https://localhost:8080/"
        },
        "id": "Ch5xPg58PLXA",
        "outputId": "36e03a64-fe3f-4012-fb24-50d53bb6e06c"
      },
      "execution_count": null,
      "outputs": [
        {
          "output_type": "stream",
          "name": "stderr",
          "text": [
            "/usr/local/lib/python3.8/dist-packages/sklearn/linear_model/_logistic.py:814: ConvergenceWarning: lbfgs failed to converge (status=1):\n",
            "STOP: TOTAL NO. of ITERATIONS REACHED LIMIT.\n",
            "\n",
            "Increase the number of iterations (max_iter) or scale the data as shown in:\n",
            "    https://scikit-learn.org/stable/modules/preprocessing.html\n",
            "Please also refer to the documentation for alternative solver options:\n",
            "    https://scikit-learn.org/stable/modules/linear_model.html#logistic-regression\n",
            "  n_iter_i = _check_optimize_result(\n"
          ]
        },
        {
          "output_type": "execute_result",
          "data": {
            "text/plain": [
              "LogisticRegression()"
            ]
          },
          "metadata": {},
          "execution_count": 124
        }
      ]
    },
    {
      "cell_type": "code",
      "source": [
        "threshold_all = Find_Optimal_Cutoff(y_test_all, classifier_logistic_all.predict_proba(X_test_all)[:,0])\n",
        "threshold_all"
      ],
      "metadata": {
        "colab": {
          "base_uri": "https://localhost:8080/"
        },
        "id": "eZZOd6OHP4yO",
        "outputId": "a4df8623-f9aa-454c-b655-f399bbf662b2"
      },
      "execution_count": null,
      "outputs": [
        {
          "output_type": "execute_result",
          "data": {
            "text/plain": [
              "[0.8326110110038114]"
            ]
          },
          "metadata": {},
          "execution_count": 125
        }
      ]
    },
    {
      "cell_type": "code",
      "source": [
        "c = to_labels(classifier_logistic_all.predict_proba(X_test_all)[:,1],0.832)\n",
        "accuracy_score(y_test_all, c)"
      ],
      "metadata": {
        "colab": {
          "base_uri": "https://localhost:8080/"
        },
        "id": "vlexXltWQPdH",
        "outputId": "d7853d7a-6318-432a-e02b-626627648cb8"
      },
      "execution_count": null,
      "outputs": [
        {
          "output_type": "execute_result",
          "data": {
            "text/plain": [
              "0.9477124183006536"
            ]
          },
          "metadata": {},
          "execution_count": 126
        }
      ]
    },
    {
      "cell_type": "code",
      "source": [
        "print(precision_score(y_test_all, c))\n",
        "print(recall_score(y_test_all, c))\n",
        "print(f1_score(y_test_all, c))"
      ],
      "metadata": {
        "colab": {
          "base_uri": "https://localhost:8080/"
        },
        "id": "JDkK-YJMQZlC",
        "outputId": "653e080c-2690-4986-9050-4ff9f1fa75f7"
      },
      "execution_count": null,
      "outputs": [
        {
          "output_type": "stream",
          "name": "stdout",
          "text": [
            "1.0\n",
            "0.9398496240601504\n",
            "0.9689922480620156\n"
          ]
        }
      ]
    },
    {
      "cell_type": "code",
      "source": [
        "roc_auc_score(y_test_all, classifier_logistic_all.predict_proba(X_test_all)[:,1])"
      ],
      "metadata": {
        "colab": {
          "base_uri": "https://localhost:8080/"
        },
        "id": "-x6pXQ4nRWdK",
        "outputId": "0d9f0aa7-37fb-499e-bc17-6668ce2ce899"
      },
      "execution_count": null,
      "outputs": [
        {
          "output_type": "execute_result",
          "data": {
            "text/plain": [
              "0.9766917293233082"
            ]
          },
          "metadata": {},
          "execution_count": 128
        }
      ]
    },
    {
      "cell_type": "code",
      "source": [
        "from sklearn.metrics._plot.confusion_matrix import confusion_matrix\n",
        "confusion_matrix(y_test_all, c)"
      ],
      "metadata": {
        "colab": {
          "base_uri": "https://localhost:8080/"
        },
        "id": "1ZGXeVnwrxJS",
        "outputId": "32be100e-9275-439e-ead4-fef80e8dec5f"
      },
      "execution_count": null,
      "outputs": [
        {
          "output_type": "execute_result",
          "data": {
            "text/plain": [
              "array([[ 20,   0],\n",
              "       [  8, 125]])"
            ]
          },
          "metadata": {},
          "execution_count": 131
        }
      ]
    },
    {
      "cell_type": "markdown",
      "source": [
        "# Part 7: Design and develop a machine-based algorithm to classify response types"
      ],
      "metadata": {
        "id": "8GC5ouwdWlmy"
      }
    },
    {
      "cell_type": "code",
      "source": [
        "#https://drive.google.com/file/d/10tiiwMd4k5rjNheGJI144fSq3UYpP4yW/view?usp=share_link\n",
        "file = drive.CreateFile({'id':'10tiiwMd4k5rjNheGJI144fSq3UYpP4yW'})\n",
        "file.GetContentFile('Peach_test.txt')  # tab-separated"
      ],
      "metadata": {
        "id": "gMeuDFjdXEkW"
      },
      "execution_count": null,
      "outputs": []
    },
    {
      "cell_type": "code",
      "source": [
        "test_df = pd.read_csv('Peach_test.txt', encoding= 'unicode_escape', sep='\\t', error_bad_lines=False)"
      ],
      "metadata": {
        "id": "wpCY8ji7lGPf"
      },
      "execution_count": null,
      "outputs": []
    },
    {
      "cell_type": "code",
      "source": [
        "test_df.isna().sum()"
      ],
      "metadata": {
        "id": "RoMx6A8EqUfM"
      },
      "execution_count": null,
      "outputs": []
    },
    {
      "cell_type": "code",
      "source": [
        "# generate text dataset\n",
        "TF_test_data = test_df.loc[:, 'Responses'].tolist()"
      ],
      "metadata": {
        "id": "NyyzdEgSqWqb"
      },
      "execution_count": null,
      "outputs": []
    },
    {
      "cell_type": "code",
      "source": [
        "# Use nltk's English stopwords.\n",
        "stopwords = nltk.corpus.stopwords.words('english') #stopwords.append(\"n't\")\n",
        "stopwords.append(\"'s\")\n",
        "stopwords.append(\"'m\")\n",
        "stopwords.append(\"br\") #html <br>\n",
        "stopwords.append(\"watch\")\n",
        "\n",
        "print (\"We use \" + str(len(stopwords)) + \" stop-words from nltk library.\")\n",
        "print (stopwords[:10])"
      ],
      "metadata": {
        "id": "wdkE5wAuqeps"
      },
      "execution_count": null,
      "outputs": []
    },
    {
      "cell_type": "code",
      "source": [
        "from nltk.stem.snowball import SnowballStemmer\n",
        "# from nltk.stem import WordNetLemmatizer\n",
        "\n",
        "stemmer = SnowballStemmer(\"english\")\n",
        "\n",
        "# tokenization and stemming\n",
        "def tokenization_and_stemming(text):\n",
        "    tokens = []\n",
        "    # exclude stop words and tokenize the document, generate a list of string\n",
        "    for word in nltk.word_tokenize(text):\n",
        "        if word.lower() not in stopwords:\n",
        "            tokens.append(word.lower())\n",
        "\n",
        "    filtered_tokens = []\n",
        "\n",
        "    # filter out any tokens not containing letters (e.g., numeric tokens, raw punctuation)\n",
        "    for token in tokens:\n",
        "        if token.isalpha():\n",
        "            filtered_tokens.append(token)\n",
        "\n",
        "    # stemming\n",
        "    stems = [stemmer.stem(t) for t in filtered_tokens]\n",
        "    return stems"
      ],
      "metadata": {
        "id": "BqgMqd77qhT7"
      },
      "execution_count": null,
      "outputs": []
    },
    {
      "cell_type": "code",
      "source": [
        "tokenization_and_stemming(TF_test_data[0])"
      ],
      "metadata": {
        "id": "5CJeU6XRqojH"
      },
      "execution_count": null,
      "outputs": []
    },
    {
      "cell_type": "code",
      "source": [
        "TF_test_data[0]"
      ],
      "metadata": {
        "id": "KXx716bTqvPx"
      },
      "execution_count": null,
      "outputs": []
    },
    {
      "cell_type": "code",
      "source": [
        "from sklearn.feature_extraction.text import TfidfVectorizer\n",
        "# define vectorizer parameters\n",
        "# TfidfVectorizer will help us to create tf-idf matrix\n",
        "# max_df : maximum document frequency for the given word, don't keep when a word appears in the documents at this frequency rate\n",
        "# min_df : minimum document frequency for the given word, don't keep when a word appears in the documents at this frequency rate\n",
        "# max_features: maximum number of words\n",
        "# use_idf: if not true, we only calculate tf\n",
        "# stop_words : built-in stop words\n",
        "# tokenizer: how to tokenize the document\n",
        "# ngram_range: (min_value, max_value), eg. (1, 3) means the result will include 1-gram, 2-gram, 3-gram\n",
        "tfidf_test_model = TfidfVectorizer(max_df=0.99, max_features=1000,\n",
        "                                 min_df=0.1, stop_words='english',\n",
        "                                 use_idf=True, tokenizer=tokenization_and_stemming, ngram_range=(1,1))\n",
        "\n",
        "tfidf_test_matrix = tfidf_test_model.fit_transform(TF_test_data) #fit the vectorizer to synopses\n",
        "\n",
        "print (\"In total, there are \" + str(tfidf_matrix.shape[0]) + \\\n",
        "      \" reviews and \" + str(tfidf_matrix.shape[1]) + \" terms.\")"
      ],
      "metadata": {
        "id": "8ETX8GKvqz_S"
      },
      "execution_count": null,
      "outputs": []
    },
    {
      "cell_type": "code",
      "source": [
        "tfidf_test_matrix"
      ],
      "metadata": {
        "id": "FNpgjs3YrFUr"
      },
      "execution_count": null,
      "outputs": []
    },
    {
      "cell_type": "code",
      "source": [
        "tfidf_test_matrix.toarray()"
      ],
      "metadata": {
        "id": "Yiaq-3JCrLcp"
      },
      "execution_count": null,
      "outputs": []
    },
    {
      "cell_type": "code",
      "source": [
        "tfidf_test_matrix.todense()"
      ],
      "metadata": {
        "id": "StCr9GDqrQQX"
      },
      "execution_count": null,
      "outputs": []
    },
    {
      "cell_type": "code",
      "source": [
        "tf_test_words = tfidf_test_model.get_feature_names()"
      ],
      "metadata": {
        "id": "6RPMZjlzrXIj"
      },
      "execution_count": null,
      "outputs": []
    },
    {
      "cell_type": "code",
      "source": [
        "tf_test_words"
      ],
      "metadata": {
        "id": "TbIvHsNxrfyo"
      },
      "execution_count": null,
      "outputs": []
    },
    {
      "cell_type": "markdown",
      "source": [
        "**Part 7.1 Content-level predictors only**"
      ],
      "metadata": {
        "id": "atFIn6ZbkV3C"
      }
    },
    {
      "cell_type": "code",
      "source": [
        "y_test_tf = test_df[\"Type_num\"]\n",
        "X_test_tf = tfidf_test_matrix"
      ],
      "metadata": {
        "id": "jGMFz1wQk0we"
      },
      "execution_count": null,
      "outputs": []
    },
    {
      "cell_type": "code",
      "source": [
        "rom sklearn import model_selection\n",
        "X_train_peach, X_test_peach, y_train_peach, y_test_peach = model_selection.train_test_split(X_test_tf, y_test_tf, test_size=0.25, stratify = y_test_tf, random_state=1) #stratified sampling,\n",
        "\n",
        "print('training data has ' + str(X_train.shape[0]) + ' observation with ' + str(X_train.shape[1]) + ' terms')\n",
        "print('test data has ' + str(X_test.shape[0]) + ' observation with ' + str(X_test.shape[1]) + ' terms')"
      ],
      "metadata": {
        "id": "DxYd6267s5iz"
      },
      "execution_count": null,
      "outputs": []
    },
    {
      "cell_type": "code",
      "source": [
        "# Logistic Regression\n",
        "classifier_logistic = LogisticRegression()\n",
        "classifier_logistic.fit(X_train_peach, y_train_peach)"
      ],
      "metadata": {
        "id": "2K1w8jSMuU72"
      },
      "execution_count": null,
      "outputs": []
    },
    {
      "cell_type": "code",
      "source": [
        "classifier_logistic.score(X_test_peach, y_test_peach)"
      ],
      "metadata": {
        "id": "bGkh70d5uZqS"
      },
      "execution_count": null,
      "outputs": []
    },
    {
      "cell_type": "code",
      "source": [
        "from sklearn.model_selection import GridSearchCV\n",
        "\n",
        "# helper function for printing out grid search results\n",
        "def print_grid_search_metrics(gs):\n",
        "    print (\"Best score: \" + str(gs.best_score_))\n",
        "    print (\"Best parameters set:\")\n",
        "    best_parameters = gs.best_params_\n",
        "    for param_name in sorted(best_parameters.keys()):\n",
        "        print(param_name + ':' + str(best_parameters[param_name]))"
      ],
      "metadata": {
        "id": "8-Wmb3pDj7Xy"
      },
      "execution_count": null,
      "outputs": []
    },
    {
      "cell_type": "code",
      "source": [
        "parameters = {\n",
        "    'penalty':('l2','l1'),\n",
        "    'C':(0.01, 0.05, 0.1, 0.2, 1)\n",
        "}\n",
        "Grid_LR = GridSearchCV(LogisticRegression(solver='liblinear'),parameters, cv=5)\n",
        "Grid_LR.fit(X_train_peach, y_train_peach)"
      ],
      "metadata": {
        "id": "_ViKUSFUkvkU"
      },
      "execution_count": null,
      "outputs": []
    },
    {
      "cell_type": "code",
      "source": [
        "# the best hyperparameter combination\n",
        "print_grid_search_metrics(Grid_LR)"
      ],
      "metadata": {
        "id": "jKortLi-teNK"
      },
      "execution_count": null,
      "outputs": []
    },
    {
      "cell_type": "code",
      "source": [
        "# best model\n",
        "best_LR_model = Grid_LR.best_estimator_"
      ],
      "metadata": {
        "id": "zjjQONcktmJu"
      },
      "execution_count": null,
      "outputs": []
    },
    {
      "cell_type": "code",
      "source": [
        "best_LR_model.predict(X_test_peach)"
      ],
      "metadata": {
        "id": "em1bXAQBtooq"
      },
      "execution_count": null,
      "outputs": []
    },
    {
      "cell_type": "code",
      "source": [
        "best_LR_model.score(X_test_peach, y_test_peach)"
      ],
      "metadata": {
        "id": "y66KlN4utpbI"
      },
      "execution_count": null,
      "outputs": []
    },
    {
      "cell_type": "markdown",
      "source": [
        "**Part 7.2 Coh-metrix predictors only**"
      ],
      "metadata": {
        "id": "vtjVLFLGvI4I"
      }
    },
    {
      "cell_type": "code",
      "source": [
        "to_drop = [\"Type\", \"Type_num\", \"Responses\"]\n",
        "y_test_cm = test_df[\"Type_num\"]\n",
        "X_test_cm = test_df.drop(to_drop, axis=1)"
      ],
      "metadata": {
        "id": "tq3gt5oVvrPj"
      },
      "execution_count": null,
      "outputs": []
    },
    {
      "cell_type": "code",
      "source": [
        "y_peach_cm = test_df[\"Type_num\"]\n",
        "X_peach_cm = X_test_cm.iloc[:,[97, 105, 93, 83, 96, 104, 9, 106, 8, 7, 10, 2, 5, 62, 76, 48]]"
      ],
      "metadata": {
        "id": "guXRbXR1vPoR"
      },
      "execution_count": null,
      "outputs": []
    },
    {
      "cell_type": "code",
      "source": [
        "from sklearn import model_selection\n",
        "X_train_peach_cm, X_test_peach_cm, y_train_peach_cm, y_test_peach_cm = model_selection.train_test_split(X_peach_cm, y_peach_cm, test_size=0.25, stratify = y_peach_cm, random_state=1) #stratified sampling,\n",
        "\n",
        "print('training data has ' + str(X_train_peach_cm.shape[0]) + ' observation with ' + str(X_train_peach_cm.shape[1]) + ' features')\n",
        "print('test data has ' + str(X_test_peach_cm.shape[0]) + ' observation with ' + str(X_test_peach_cm.shape[1]) + ' features')"
      ],
      "metadata": {
        "id": "G_5L1J9sv_Cx"
      },
      "execution_count": null,
      "outputs": []
    },
    {
      "cell_type": "code",
      "source": [],
      "metadata": {
        "id": "ufTh8VKBwOdJ"
      },
      "execution_count": null,
      "outputs": []
    }
  ]
}